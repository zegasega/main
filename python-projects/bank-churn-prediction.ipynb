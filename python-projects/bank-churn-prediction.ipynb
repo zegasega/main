{
 "cells": [
  {
   "cell_type": "code",
   "execution_count": 1,
   "id": "dd3a9924",
   "metadata": {
    "_cell_guid": "b1076dfc-b9ad-4769-8c92-a6c4dae69d19",
    "_uuid": "8f2839f25d086af736a60e9eeb907d3b93b6e0e5",
    "execution": {
     "iopub.execute_input": "2024-04-12T17:31:10.450624Z",
     "iopub.status.busy": "2024-04-12T17:31:10.450165Z",
     "iopub.status.idle": "2024-04-12T17:31:10.470787Z",
     "shell.execute_reply": "2024-04-12T17:31:10.469847Z"
    },
    "papermill": {
     "duration": 0.032314,
     "end_time": "2024-04-12T17:31:10.473888",
     "exception": false,
     "start_time": "2024-04-12T17:31:10.441574",
     "status": "completed"
    },
    "tags": []
   },
   "outputs": [
    {
     "name": "stdout",
     "output_type": "stream",
     "text": [
      "/kaggle/input/bank-customer-churn-prediction-dataset/Churn_Modelling.csv\n"
     ]
    }
   ],
   "source": [
    "import os\n",
    "for dirname, _, filenames in os.walk('/kaggle/input'):\n",
    "    for filename in filenames:\n",
    "        print(os.path.join(dirname, filename))\n"
   ]
  },
  {
   "cell_type": "code",
   "execution_count": 2,
   "id": "930c9ecb",
   "metadata": {
    "execution": {
     "iopub.execute_input": "2024-04-12T17:31:10.489687Z",
     "iopub.status.busy": "2024-04-12T17:31:10.488965Z",
     "iopub.status.idle": "2024-04-12T17:31:13.379605Z",
     "shell.execute_reply": "2024-04-12T17:31:13.378196Z"
    },
    "papermill": {
     "duration": 2.902133,
     "end_time": "2024-04-12T17:31:13.382771",
     "exception": false,
     "start_time": "2024-04-12T17:31:10.480638",
     "status": "completed"
    },
    "tags": []
   },
   "outputs": [],
   "source": [
    "import numpy as np \n",
    "import pandas as pd\n",
    "from sklearn.ensemble import RandomForestClassifier\n",
    "from sklearn.model_selection import train_test_split\n",
    "from sklearn.metrics import confusion_matrix\n",
    "import seaborn as sns\n",
    "import matplotlib.pyplot as plt\n",
    "from sklearn.tree import DecisionTreeClassifier\n"
   ]
  },
  {
   "cell_type": "code",
   "execution_count": 3,
   "id": "275f4610",
   "metadata": {
    "execution": {
     "iopub.execute_input": "2024-04-12T17:31:13.397385Z",
     "iopub.status.busy": "2024-04-12T17:31:13.396671Z",
     "iopub.status.idle": "2024-04-12T17:31:13.461401Z",
     "shell.execute_reply": "2024-04-12T17:31:13.460269Z"
    },
    "papermill": {
     "duration": 0.075292,
     "end_time": "2024-04-12T17:31:13.464367",
     "exception": false,
     "start_time": "2024-04-12T17:31:13.389075",
     "status": "completed"
    },
    "tags": []
   },
   "outputs": [],
   "source": [
    "path = '/kaggle/input/bank-customer-churn-prediction-dataset/Churn_Modelling.csv'\n",
    "df = pd.read_csv(path)"
   ]
  },
  {
   "cell_type": "code",
   "execution_count": 4,
   "id": "bbdcbd3b",
   "metadata": {
    "execution": {
     "iopub.execute_input": "2024-04-12T17:31:13.478998Z",
     "iopub.status.busy": "2024-04-12T17:31:13.478515Z",
     "iopub.status.idle": "2024-04-12T17:31:13.506899Z",
     "shell.execute_reply": "2024-04-12T17:31:13.505488Z"
    },
    "papermill": {
     "duration": 0.03905,
     "end_time": "2024-04-12T17:31:13.509808",
     "exception": false,
     "start_time": "2024-04-12T17:31:13.470758",
     "status": "completed"
    },
    "tags": []
   },
   "outputs": [
    {
     "data": {
      "text/html": [
       "<div>\n",
       "<style scoped>\n",
       "    .dataframe tbody tr th:only-of-type {\n",
       "        vertical-align: middle;\n",
       "    }\n",
       "\n",
       "    .dataframe tbody tr th {\n",
       "        vertical-align: top;\n",
       "    }\n",
       "\n",
       "    .dataframe thead th {\n",
       "        text-align: right;\n",
       "    }\n",
       "</style>\n",
       "<table border=\"1\" class=\"dataframe\">\n",
       "  <thead>\n",
       "    <tr style=\"text-align: right;\">\n",
       "      <th></th>\n",
       "      <th>RowNumber</th>\n",
       "      <th>CustomerId</th>\n",
       "      <th>Surname</th>\n",
       "      <th>CreditScore</th>\n",
       "      <th>Geography</th>\n",
       "      <th>Gender</th>\n",
       "      <th>Age</th>\n",
       "      <th>Tenure</th>\n",
       "      <th>Balance</th>\n",
       "      <th>NumOfProducts</th>\n",
       "      <th>HasCrCard</th>\n",
       "      <th>IsActiveMember</th>\n",
       "      <th>EstimatedSalary</th>\n",
       "      <th>Exited</th>\n",
       "    </tr>\n",
       "  </thead>\n",
       "  <tbody>\n",
       "    <tr>\n",
       "      <th>0</th>\n",
       "      <td>1</td>\n",
       "      <td>15634602</td>\n",
       "      <td>Hargrave</td>\n",
       "      <td>619</td>\n",
       "      <td>France</td>\n",
       "      <td>Female</td>\n",
       "      <td>42</td>\n",
       "      <td>2</td>\n",
       "      <td>0.00</td>\n",
       "      <td>1</td>\n",
       "      <td>1</td>\n",
       "      <td>1</td>\n",
       "      <td>101348.88</td>\n",
       "      <td>1</td>\n",
       "    </tr>\n",
       "    <tr>\n",
       "      <th>1</th>\n",
       "      <td>2</td>\n",
       "      <td>15647311</td>\n",
       "      <td>Hill</td>\n",
       "      <td>608</td>\n",
       "      <td>Spain</td>\n",
       "      <td>Female</td>\n",
       "      <td>41</td>\n",
       "      <td>1</td>\n",
       "      <td>83807.86</td>\n",
       "      <td>1</td>\n",
       "      <td>0</td>\n",
       "      <td>1</td>\n",
       "      <td>112542.58</td>\n",
       "      <td>0</td>\n",
       "    </tr>\n",
       "    <tr>\n",
       "      <th>2</th>\n",
       "      <td>3</td>\n",
       "      <td>15619304</td>\n",
       "      <td>Onio</td>\n",
       "      <td>502</td>\n",
       "      <td>France</td>\n",
       "      <td>Female</td>\n",
       "      <td>42</td>\n",
       "      <td>8</td>\n",
       "      <td>159660.80</td>\n",
       "      <td>3</td>\n",
       "      <td>1</td>\n",
       "      <td>0</td>\n",
       "      <td>113931.57</td>\n",
       "      <td>1</td>\n",
       "    </tr>\n",
       "  </tbody>\n",
       "</table>\n",
       "</div>"
      ],
      "text/plain": [
       "   RowNumber  CustomerId   Surname  CreditScore Geography  Gender  Age  \\\n",
       "0          1    15634602  Hargrave          619    France  Female   42   \n",
       "1          2    15647311      Hill          608     Spain  Female   41   \n",
       "2          3    15619304      Onio          502    France  Female   42   \n",
       "\n",
       "   Tenure    Balance  NumOfProducts  HasCrCard  IsActiveMember  \\\n",
       "0       2       0.00              1          1               1   \n",
       "1       1   83807.86              1          0               1   \n",
       "2       8  159660.80              3          1               0   \n",
       "\n",
       "   EstimatedSalary  Exited  \n",
       "0        101348.88       1  \n",
       "1        112542.58       0  \n",
       "2        113931.57       1  "
      ]
     },
     "execution_count": 4,
     "metadata": {},
     "output_type": "execute_result"
    }
   ],
   "source": [
    "df.head(3)"
   ]
  },
  {
   "cell_type": "code",
   "execution_count": 5,
   "id": "7234234d",
   "metadata": {
    "execution": {
     "iopub.execute_input": "2024-04-12T17:31:13.525785Z",
     "iopub.status.busy": "2024-04-12T17:31:13.525313Z",
     "iopub.status.idle": "2024-04-12T17:31:13.548196Z",
     "shell.execute_reply": "2024-04-12T17:31:13.547041Z"
    },
    "papermill": {
     "duration": 0.034183,
     "end_time": "2024-04-12T17:31:13.550857",
     "exception": false,
     "start_time": "2024-04-12T17:31:13.516674",
     "status": "completed"
    },
    "tags": []
   },
   "outputs": [
    {
     "data": {
      "text/html": [
       "<div>\n",
       "<style scoped>\n",
       "    .dataframe tbody tr th:only-of-type {\n",
       "        vertical-align: middle;\n",
       "    }\n",
       "\n",
       "    .dataframe tbody tr th {\n",
       "        vertical-align: top;\n",
       "    }\n",
       "\n",
       "    .dataframe thead th {\n",
       "        text-align: right;\n",
       "    }\n",
       "</style>\n",
       "<table border=\"1\" class=\"dataframe\">\n",
       "  <thead>\n",
       "    <tr style=\"text-align: right;\">\n",
       "      <th></th>\n",
       "      <th>CreditScore</th>\n",
       "      <th>Geography</th>\n",
       "      <th>Gender</th>\n",
       "      <th>Age</th>\n",
       "      <th>Tenure</th>\n",
       "      <th>Balance</th>\n",
       "      <th>NumOfProducts</th>\n",
       "      <th>HasCrCard</th>\n",
       "      <th>IsActiveMember</th>\n",
       "      <th>EstimatedSalary</th>\n",
       "      <th>Exited</th>\n",
       "    </tr>\n",
       "  </thead>\n",
       "  <tbody>\n",
       "    <tr>\n",
       "      <th>0</th>\n",
       "      <td>619</td>\n",
       "      <td>France</td>\n",
       "      <td>Female</td>\n",
       "      <td>42</td>\n",
       "      <td>2</td>\n",
       "      <td>0.00</td>\n",
       "      <td>1</td>\n",
       "      <td>1</td>\n",
       "      <td>1</td>\n",
       "      <td>101348.88</td>\n",
       "      <td>1</td>\n",
       "    </tr>\n",
       "    <tr>\n",
       "      <th>1</th>\n",
       "      <td>608</td>\n",
       "      <td>Spain</td>\n",
       "      <td>Female</td>\n",
       "      <td>41</td>\n",
       "      <td>1</td>\n",
       "      <td>83807.86</td>\n",
       "      <td>1</td>\n",
       "      <td>0</td>\n",
       "      <td>1</td>\n",
       "      <td>112542.58</td>\n",
       "      <td>0</td>\n",
       "    </tr>\n",
       "    <tr>\n",
       "      <th>2</th>\n",
       "      <td>502</td>\n",
       "      <td>France</td>\n",
       "      <td>Female</td>\n",
       "      <td>42</td>\n",
       "      <td>8</td>\n",
       "      <td>159660.80</td>\n",
       "      <td>3</td>\n",
       "      <td>1</td>\n",
       "      <td>0</td>\n",
       "      <td>113931.57</td>\n",
       "      <td>1</td>\n",
       "    </tr>\n",
       "  </tbody>\n",
       "</table>\n",
       "</div>"
      ],
      "text/plain": [
       "   CreditScore Geography  Gender  Age  Tenure    Balance  NumOfProducts  \\\n",
       "0          619    France  Female   42       2       0.00              1   \n",
       "1          608     Spain  Female   41       1   83807.86              1   \n",
       "2          502    France  Female   42       8  159660.80              3   \n",
       "\n",
       "   HasCrCard  IsActiveMember  EstimatedSalary  Exited  \n",
       "0          1               1        101348.88       1  \n",
       "1          0               1        112542.58       0  \n",
       "2          1               0        113931.57       1  "
      ]
     },
     "execution_count": 5,
     "metadata": {},
     "output_type": "execute_result"
    }
   ],
   "source": [
    "df = df.drop(columns=['RowNumber','CustomerId','Surname'])\n",
    "df.head(3)"
   ]
  },
  {
   "cell_type": "markdown",
   "id": "870fd95f",
   "metadata": {
    "papermill": {
     "duration": 0.006429,
     "end_time": "2024-04-12T17:31:13.564592",
     "exception": false,
     "start_time": "2024-04-12T17:31:13.558163",
     "status": "completed"
    },
    "tags": []
   },
   "source": [
    "We need to convert strings to number type"
   ]
  },
  {
   "cell_type": "code",
   "execution_count": 6,
   "id": "274c3f27",
   "metadata": {
    "execution": {
     "iopub.execute_input": "2024-04-12T17:31:13.579982Z",
     "iopub.status.busy": "2024-04-12T17:31:13.579503Z",
     "iopub.status.idle": "2024-04-12T17:31:13.599485Z",
     "shell.execute_reply": "2024-04-12T17:31:13.598341Z"
    },
    "papermill": {
     "duration": 0.031077,
     "end_time": "2024-04-12T17:31:13.602191",
     "exception": false,
     "start_time": "2024-04-12T17:31:13.571114",
     "status": "completed"
    },
    "tags": []
   },
   "outputs": [],
   "source": [
    "df = pd.get_dummies(df,columns=['Geography','Gender'],drop_first = True)"
   ]
  },
  {
   "cell_type": "code",
   "execution_count": 7,
   "id": "016d5996",
   "metadata": {
    "execution": {
     "iopub.execute_input": "2024-04-12T17:31:13.618143Z",
     "iopub.status.busy": "2024-04-12T17:31:13.617633Z",
     "iopub.status.idle": "2024-04-12T17:31:13.633670Z",
     "shell.execute_reply": "2024-04-12T17:31:13.632823Z"
    },
    "papermill": {
     "duration": 0.027035,
     "end_time": "2024-04-12T17:31:13.636293",
     "exception": false,
     "start_time": "2024-04-12T17:31:13.609258",
     "status": "completed"
    },
    "tags": []
   },
   "outputs": [
    {
     "data": {
      "text/html": [
       "<div>\n",
       "<style scoped>\n",
       "    .dataframe tbody tr th:only-of-type {\n",
       "        vertical-align: middle;\n",
       "    }\n",
       "\n",
       "    .dataframe tbody tr th {\n",
       "        vertical-align: top;\n",
       "    }\n",
       "\n",
       "    .dataframe thead th {\n",
       "        text-align: right;\n",
       "    }\n",
       "</style>\n",
       "<table border=\"1\" class=\"dataframe\">\n",
       "  <thead>\n",
       "    <tr style=\"text-align: right;\">\n",
       "      <th></th>\n",
       "      <th>CreditScore</th>\n",
       "      <th>Age</th>\n",
       "      <th>Tenure</th>\n",
       "      <th>Balance</th>\n",
       "      <th>NumOfProducts</th>\n",
       "      <th>HasCrCard</th>\n",
       "      <th>IsActiveMember</th>\n",
       "      <th>EstimatedSalary</th>\n",
       "      <th>Exited</th>\n",
       "      <th>Geography_Germany</th>\n",
       "      <th>Geography_Spain</th>\n",
       "      <th>Gender_Male</th>\n",
       "    </tr>\n",
       "  </thead>\n",
       "  <tbody>\n",
       "    <tr>\n",
       "      <th>0</th>\n",
       "      <td>619</td>\n",
       "      <td>42</td>\n",
       "      <td>2</td>\n",
       "      <td>0.00</td>\n",
       "      <td>1</td>\n",
       "      <td>1</td>\n",
       "      <td>1</td>\n",
       "      <td>101348.88</td>\n",
       "      <td>1</td>\n",
       "      <td>False</td>\n",
       "      <td>False</td>\n",
       "      <td>False</td>\n",
       "    </tr>\n",
       "    <tr>\n",
       "      <th>1</th>\n",
       "      <td>608</td>\n",
       "      <td>41</td>\n",
       "      <td>1</td>\n",
       "      <td>83807.86</td>\n",
       "      <td>1</td>\n",
       "      <td>0</td>\n",
       "      <td>1</td>\n",
       "      <td>112542.58</td>\n",
       "      <td>0</td>\n",
       "      <td>False</td>\n",
       "      <td>True</td>\n",
       "      <td>False</td>\n",
       "    </tr>\n",
       "    <tr>\n",
       "      <th>2</th>\n",
       "      <td>502</td>\n",
       "      <td>42</td>\n",
       "      <td>8</td>\n",
       "      <td>159660.80</td>\n",
       "      <td>3</td>\n",
       "      <td>1</td>\n",
       "      <td>0</td>\n",
       "      <td>113931.57</td>\n",
       "      <td>1</td>\n",
       "      <td>False</td>\n",
       "      <td>False</td>\n",
       "      <td>False</td>\n",
       "    </tr>\n",
       "  </tbody>\n",
       "</table>\n",
       "</div>"
      ],
      "text/plain": [
       "   CreditScore  Age  Tenure    Balance  NumOfProducts  HasCrCard  \\\n",
       "0          619   42       2       0.00              1          1   \n",
       "1          608   41       1   83807.86              1          0   \n",
       "2          502   42       8  159660.80              3          1   \n",
       "\n",
       "   IsActiveMember  EstimatedSalary  Exited  Geography_Germany  \\\n",
       "0               1        101348.88       1              False   \n",
       "1               1        112542.58       0              False   \n",
       "2               0        113931.57       1              False   \n",
       "\n",
       "   Geography_Spain  Gender_Male  \n",
       "0            False        False  \n",
       "1             True        False  \n",
       "2            False        False  "
      ]
     },
     "execution_count": 7,
     "metadata": {},
     "output_type": "execute_result"
    }
   ],
   "source": [
    "df.head(3)"
   ]
  },
  {
   "cell_type": "code",
   "execution_count": 8,
   "id": "568c1499",
   "metadata": {
    "execution": {
     "iopub.execute_input": "2024-04-12T17:31:13.651948Z",
     "iopub.status.busy": "2024-04-12T17:31:13.651360Z",
     "iopub.status.idle": "2024-04-12T17:31:13.657933Z",
     "shell.execute_reply": "2024-04-12T17:31:13.656943Z"
    },
    "papermill": {
     "duration": 0.017053,
     "end_time": "2024-04-12T17:31:13.660249",
     "exception": false,
     "start_time": "2024-04-12T17:31:13.643196",
     "status": "completed"
    },
    "tags": []
   },
   "outputs": [],
   "source": [
    "y = df['Exited']\n",
    "x = df.drop('Exited',axis=1)"
   ]
  },
  {
   "cell_type": "code",
   "execution_count": 9,
   "id": "76584c1f",
   "metadata": {
    "execution": {
     "iopub.execute_input": "2024-04-12T17:31:13.676120Z",
     "iopub.status.busy": "2024-04-12T17:31:13.675711Z",
     "iopub.status.idle": "2024-04-12T17:31:13.686491Z",
     "shell.execute_reply": "2024-04-12T17:31:13.685587Z"
    },
    "papermill": {
     "duration": 0.021737,
     "end_time": "2024-04-12T17:31:13.689051",
     "exception": false,
     "start_time": "2024-04-12T17:31:13.667314",
     "status": "completed"
    },
    "tags": []
   },
   "outputs": [],
   "source": [
    "x_train,x_test,y_train,y_test = train_test_split(x,y,train_size = 0.7,random_state = 42)"
   ]
  },
  {
   "cell_type": "markdown",
   "id": "6778a1b7",
   "metadata": {
    "papermill": {
     "duration": 0.006589,
     "end_time": "2024-04-12T17:31:13.702675",
     "exception": false,
     "start_time": "2024-04-12T17:31:13.696086",
     "status": "completed"
    },
    "tags": []
   },
   "source": [
    "# RandomForest Classifier"
   ]
  },
  {
   "cell_type": "code",
   "execution_count": 10,
   "id": "a0ce6ed0",
   "metadata": {
    "execution": {
     "iopub.execute_input": "2024-04-12T17:31:13.718076Z",
     "iopub.status.busy": "2024-04-12T17:31:13.717616Z",
     "iopub.status.idle": "2024-04-12T17:31:14.983324Z",
     "shell.execute_reply": "2024-04-12T17:31:14.980816Z"
    },
    "papermill": {
     "duration": 1.276557,
     "end_time": "2024-04-12T17:31:14.985881",
     "exception": false,
     "start_time": "2024-04-12T17:31:13.709324",
     "status": "completed"
    },
    "tags": []
   },
   "outputs": [
    {
     "data": {
      "text/plain": [
       "0.8696666666666667"
      ]
     },
     "execution_count": 10,
     "metadata": {},
     "output_type": "execute_result"
    }
   ],
   "source": [
    "rf = RandomForestClassifier()\n",
    "rf_model = rf.fit(x_train,y_train)\n",
    "rf_model.score(x_test,y_test)"
   ]
  },
  {
   "cell_type": "code",
   "execution_count": 11,
   "id": "eb1ca52d",
   "metadata": {
    "execution": {
     "iopub.execute_input": "2024-04-12T17:31:15.003152Z",
     "iopub.status.busy": "2024-04-12T17:31:15.002682Z",
     "iopub.status.idle": "2024-04-12T17:31:15.414923Z",
     "shell.execute_reply": "2024-04-12T17:31:15.413580Z"
    },
    "papermill": {
     "duration": 0.425327,
     "end_time": "2024-04-12T17:31:15.418292",
     "exception": false,
     "start_time": "2024-04-12T17:31:14.992965",
     "status": "completed"
    },
    "tags": []
   },
   "outputs": [
    {
     "data": {
      "image/png": "[encoded data removed]",
      "text/plain": [
       "<Figure size 800x600 with 2 Axes>"
      ]
     },
     "metadata": {},
     "output_type": "display_data"
    }
   ],
   "source": [
    "\n",
    "rf_y_pred = rf_model.predict(x_test)\n",
    "\n",
    "conf_matrix = confusion_matrix(y_test, rf_y_pred)\n",
    "\n",
    "# Plot the confusion matrix\n",
    "plt.figure(figsize=(8, 6))\n",
    "sns.heatmap(conf_matrix, annot=True, fmt=\"d\", cmap=\"Blues\", \n",
    "            xticklabels=['Class 0', 'Class 1'], \n",
    "            yticklabels=['Class 0', 'Class 1'])\n",
    "plt.xlabel('Predicted labels')\n",
    "plt.ylabel('True labels')\n",
    "plt.title('Confusion Matrix')\n",
    "plt.show()"
   ]
  },
  {
   "cell_type": "markdown",
   "id": "a0c8c2c2",
   "metadata": {
    "papermill": {
     "duration": 0.007452,
     "end_time": "2024-04-12T17:31:15.433794",
     "exception": false,
     "start_time": "2024-04-12T17:31:15.426342",
     "status": "completed"
    },
    "tags": []
   },
   "source": [
    "# DecisionTree Classifier"
   ]
  },
  {
   "cell_type": "code",
   "execution_count": 12,
   "id": "53fcc312",
   "metadata": {
    "execution": {
     "iopub.execute_input": "2024-04-12T17:31:15.452398Z",
     "iopub.status.busy": "2024-04-12T17:31:15.451957Z",
     "iopub.status.idle": "2024-04-12T17:31:15.510682Z",
     "shell.execute_reply": "2024-04-12T17:31:15.509318Z"
    },
    "papermill": {
     "duration": 0.07179,
     "end_time": "2024-04-12T17:31:15.513705",
     "exception": false,
     "start_time": "2024-04-12T17:31:15.441915",
     "status": "completed"
    },
    "tags": []
   },
   "outputs": [
    {
     "data": {
      "text/plain": [
       "0.8026666666666666"
      ]
     },
     "execution_count": 12,
     "metadata": {},
     "output_type": "execute_result"
    }
   ],
   "source": [
    "dc = DecisionTreeClassifier()\n",
    "dc_model = dc.fit(x_train,y_train)\n",
    "dc_model.score(x_test,y_test)"
   ]
  },
  {
   "cell_type": "code",
   "execution_count": 13,
   "id": "daed18de",
   "metadata": {
    "execution": {
     "iopub.execute_input": "2024-04-12T17:31:15.531389Z",
     "iopub.status.busy": "2024-04-12T17:31:15.530954Z",
     "iopub.status.idle": "2024-04-12T17:31:15.855471Z",
     "shell.execute_reply": "2024-04-12T17:31:15.854185Z"
    },
    "papermill": {
     "duration": 0.336769,
     "end_time": "2024-04-12T17:31:15.858303",
     "exception": false,
     "start_time": "2024-04-12T17:31:15.521534",
     "status": "completed"
    },
    "tags": []
   },
   "outputs": [
    {
     "data": {
      "image/png": "[encoded data removed]",
      "text/plain": [
       "<Figure size 800x600 with 2 Axes>"
      ]
     },
     "metadata": {},
     "output_type": "display_data"
    }
   ],
   "source": [
    "\n",
    "dc_y_pred = dc_model.predict(x_test)\n",
    "\n",
    "conf_matrix = confusion_matrix(y_test, dc_y_pred)\n",
    "\n",
    "# Plot the confusion matrix\n",
    "plt.figure(figsize=(8, 6))\n",
    "sns.heatmap(conf_matrix, annot=True,fmt=\"d\", cmap=\"Blues\", \n",
    "            xticklabels=['Class 0', 'Class 1'], \n",
    "            yticklabels=['Class 0', 'Class 1'])\n",
    "plt.xlabel('Predicted labels')\n",
    "plt.ylabel('True labels')\n",
    "plt.title('Confusion Matrix')\n",
    "plt.show()"
   ]
  },
  {
   "cell_type": "code",
   "execution_count": null,
   "id": "65c7b59e",
   "metadata": {
    "papermill": {
     "duration": 0.007923,
     "end_time": "2024-04-12T17:31:15.874538",
     "exception": false,
     "start_time": "2024-04-12T17:31:15.866615",
     "status": "completed"
    },
    "tags": []
   },
   "outputs": [],
   "source": []
  }
 ],
 "metadata": {
  "kaggle": {
   "accelerator": "none",
   "dataSources": [
    {
     "datasetId": 4649694,
     "sourceId": 7913901,
     "sourceType": "datasetVersion"
    }
   ],
   "dockerImageVersionId": 30684,
   "isGpuEnabled": false,
   "isInternetEnabled": true,
   "language": "python",
   "sourceType": "notebook"
  },
  "kernelspec": {
   "display_name": "Python 3",
   "language": "python",
   "name": "python3"
  },
  "language_info": {
   "codemirror_mode": {
    "name": "ipython",
    "version": 3
   },
   "file_extension": ".py",
   "mimetype": "text/x-python",
   "name": "python",
   "nbconvert_exporter": "python",
   "pygments_lexer": "ipython3",
   "version": "3.10.13"
  },
  "papermill": {
   "default_parameters": {},
   "duration": 9.371067,
   "end_time": "2024-04-12T17:31:16.806129",
   "environment_variables": {},
   "exception": null,
   "input_path": "__notebook__.ipynb",
   "output_path": "__notebook__.ipynb",
   "parameters": {},
   "start_time": "2024-04-12T17:31:07.435062",
   "version": "2.5.0"
  }
 },
 "nbformat": 4,
 "nbformat_minor": 5
}
