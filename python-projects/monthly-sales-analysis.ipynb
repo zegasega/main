{
 "cells": [
  {
   "cell_type": "code",
   "execution_count": 1,
   "id": "b48a085a",
   "metadata": {
    "_cell_guid": "b1076dfc-b9ad-4769-8c92-a6c4dae69d19",
    "_uuid": "8f2839f25d086af736a60e9eeb907d3b93b6e0e5",
    "execution": {
     "iopub.execute_input": "2024-05-01T19:36:16.979840Z",
     "iopub.status.busy": "2024-05-01T19:36:16.979402Z",
     "iopub.status.idle": "2024-05-01T19:36:18.086179Z",
     "shell.execute_reply": "2024-05-01T19:36:18.084532Z"
    },
    "papermill": {
     "duration": 1.117639,
     "end_time": "2024-05-01T19:36:18.089086",
     "exception": false,
     "start_time": "2024-05-01T19:36:16.971447",
     "status": "completed"
    },
    "tags": []
   },
   "outputs": [
    {
     "name": "stdout",
     "output_type": "stream",
     "text": [
      "/kaggle/input/coffee-shop-sales/Coffee Shop Sales.xlsx\n"
     ]
    }
   ],
   "source": [
    "\n",
    "import numpy as np \n",
    "import pandas as pd \n",
    "\n",
    "import os\n",
    "for dirname, _, filenames in os.walk('/kaggle/input'):\n",
    "    for filename in filenames:\n",
    "        print(os.path.join(dirname, filename))"
   ]
  },
  {
   "cell_type": "code",
   "execution_count": 2,
   "id": "674cb03b",
   "metadata": {
    "execution": {
     "iopub.execute_input": "2024-05-01T19:36:18.103576Z",
     "iopub.status.busy": "2024-05-01T19:36:18.102985Z",
     "iopub.status.idle": "2024-05-01T19:36:58.809812Z",
     "shell.execute_reply": "2024-05-01T19:36:58.808601Z"
    },
    "papermill": {
     "duration": 40.722134,
     "end_time": "2024-05-01T19:36:58.817970",
     "exception": false,
     "start_time": "2024-05-01T19:36:18.095836",
     "status": "completed"
    },
    "tags": []
   },
   "outputs": [
    {
     "data": {
      "text/html": [
       "<div>\n",
       "<style scoped>\n",
       "    .dataframe tbody tr th:only-of-type {\n",
       "        vertical-align: middle;\n",
       "    }\n",
       "\n",
       "    .dataframe tbody tr th {\n",
       "        vertical-align: top;\n",
       "    }\n",
       "\n",
       "    .dataframe thead th {\n",
       "        text-align: right;\n",
       "    }\n",
       "</style>\n",
       "<table border=\"1\" class=\"dataframe\">\n",
       "  <thead>\n",
       "    <tr style=\"text-align: right;\">\n",
       "      <th></th>\n",
       "      <th>transaction_id</th>\n",
       "      <th>transaction_date</th>\n",
       "      <th>transaction_time</th>\n",
       "      <th>transaction_qty</th>\n",
       "      <th>store_id</th>\n",
       "      <th>store_location</th>\n",
       "      <th>product_id</th>\n",
       "      <th>unit_price</th>\n",
       "      <th>product_category</th>\n",
       "      <th>product_type</th>\n",
       "      <th>product_detail</th>\n",
       "    </tr>\n",
       "  </thead>\n",
       "  <tbody>\n",
       "    <tr>\n",
       "      <th>0</th>\n",
       "      <td>1</td>\n",
       "      <td>2023-01-01</td>\n",
       "      <td>07:06:11</td>\n",
       "      <td>2</td>\n",
       "      <td>5</td>\n",
       "      <td>Lower Manhattan</td>\n",
       "      <td>32</td>\n",
       "      <td>3.0</td>\n",
       "      <td>Coffee</td>\n",
       "      <td>Gourmet brewed coffee</td>\n",
       "      <td>Ethiopia Rg</td>\n",
       "    </tr>\n",
       "    <tr>\n",
       "      <th>1</th>\n",
       "      <td>2</td>\n",
       "      <td>2023-01-01</td>\n",
       "      <td>07:08:56</td>\n",
       "      <td>2</td>\n",
       "      <td>5</td>\n",
       "      <td>Lower Manhattan</td>\n",
       "      <td>57</td>\n",
       "      <td>3.1</td>\n",
       "      <td>Tea</td>\n",
       "      <td>Brewed Chai tea</td>\n",
       "      <td>Spicy Eye Opener Chai Lg</td>\n",
       "    </tr>\n",
       "    <tr>\n",
       "      <th>2</th>\n",
       "      <td>3</td>\n",
       "      <td>2023-01-01</td>\n",
       "      <td>07:14:04</td>\n",
       "      <td>2</td>\n",
       "      <td>5</td>\n",
       "      <td>Lower Manhattan</td>\n",
       "      <td>59</td>\n",
       "      <td>4.5</td>\n",
       "      <td>Drinking Chocolate</td>\n",
       "      <td>Hot chocolate</td>\n",
       "      <td>Dark chocolate Lg</td>\n",
       "    </tr>\n",
       "    <tr>\n",
       "      <th>3</th>\n",
       "      <td>4</td>\n",
       "      <td>2023-01-01</td>\n",
       "      <td>07:20:24</td>\n",
       "      <td>1</td>\n",
       "      <td>5</td>\n",
       "      <td>Lower Manhattan</td>\n",
       "      <td>22</td>\n",
       "      <td>2.0</td>\n",
       "      <td>Coffee</td>\n",
       "      <td>Drip coffee</td>\n",
       "      <td>Our Old Time Diner Blend Sm</td>\n",
       "    </tr>\n",
       "    <tr>\n",
       "      <th>4</th>\n",
       "      <td>5</td>\n",
       "      <td>2023-01-01</td>\n",
       "      <td>07:22:41</td>\n",
       "      <td>2</td>\n",
       "      <td>5</td>\n",
       "      <td>Lower Manhattan</td>\n",
       "      <td>57</td>\n",
       "      <td>3.1</td>\n",
       "      <td>Tea</td>\n",
       "      <td>Brewed Chai tea</td>\n",
       "      <td>Spicy Eye Opener Chai Lg</td>\n",
       "    </tr>\n",
       "  </tbody>\n",
       "</table>\n",
       "</div>"
      ],
      "text/plain": [
       "   transaction_id transaction_date transaction_time  transaction_qty  \\\n",
       "0               1       2023-01-01         07:06:11                2   \n",
       "1               2       2023-01-01         07:08:56                2   \n",
       "2               3       2023-01-01         07:14:04                2   \n",
       "3               4       2023-01-01         07:20:24                1   \n",
       "4               5       2023-01-01         07:22:41                2   \n",
       "\n",
       "   store_id   store_location  product_id  unit_price    product_category  \\\n",
       "0         5  Lower Manhattan          32         3.0              Coffee   \n",
       "1         5  Lower Manhattan          57         3.1                 Tea   \n",
       "2         5  Lower Manhattan          59         4.5  Drinking Chocolate   \n",
       "3         5  Lower Manhattan          22         2.0              Coffee   \n",
       "4         5  Lower Manhattan          57         3.1                 Tea   \n",
       "\n",
       "            product_type               product_detail  \n",
       "0  Gourmet brewed coffee                  Ethiopia Rg  \n",
       "1        Brewed Chai tea     Spicy Eye Opener Chai Lg  \n",
       "2          Hot chocolate            Dark chocolate Lg  \n",
       "3            Drip coffee  Our Old Time Diner Blend Sm  \n",
       "4        Brewed Chai tea     Spicy Eye Opener Chai Lg  "
      ]
     },
     "execution_count": 2,
     "metadata": {},
     "output_type": "execute_result"
    }
   ],
   "source": [
    "path = '/kaggle/input/coffee-shop-sales/Coffee Shop Sales.xlsx'\n",
    "df = pd.read_excel(path)\n",
    "df.head()"
   ]
  },
  {
   "cell_type": "code",
   "execution_count": 3,
   "id": "8f8a1755",
   "metadata": {
    "execution": {
     "iopub.execute_input": "2024-05-01T19:36:58.832154Z",
     "iopub.status.busy": "2024-05-01T19:36:58.831589Z",
     "iopub.status.idle": "2024-05-01T19:36:58.941322Z",
     "shell.execute_reply": "2024-05-01T19:36:58.939986Z"
    },
    "papermill": {
     "duration": 0.12002,
     "end_time": "2024-05-01T19:36:58.944078",
     "exception": false,
     "start_time": "2024-05-01T19:36:58.824058",
     "status": "completed"
    },
    "tags": []
   },
   "outputs": [
    {
     "name": "stdout",
     "output_type": "stream",
     "text": [
      "<class 'pandas.core.frame.DataFrame'>\n",
      "RangeIndex: 149116 entries, 0 to 149115\n",
      "Data columns (total 11 columns):\n",
      " #   Column            Non-Null Count   Dtype         \n",
      "---  ------            --------------   -----         \n",
      " 0   transaction_id    149116 non-null  int64         \n",
      " 1   transaction_date  149116 non-null  datetime64[ns]\n",
      " 2   transaction_time  149116 non-null  object        \n",
      " 3   transaction_qty   149116 non-null  int64         \n",
      " 4   store_id          149116 non-null  int64         \n",
      " 5   store_location    149116 non-null  object        \n",
      " 6   product_id        149116 non-null  int64         \n",
      " 7   unit_price        149116 non-null  float64       \n",
      " 8   product_category  149116 non-null  object        \n",
      " 9   product_type      149116 non-null  object        \n",
      " 10  product_detail    149116 non-null  object        \n",
      "dtypes: datetime64[ns](1), float64(1), int64(4), object(5)\n",
      "memory usage: 12.5+ MB\n"
     ]
    }
   ],
   "source": [
    "df.info()"
   ]
  },
  {
   "cell_type": "code",
   "execution_count": 4,
   "id": "7d659680",
   "metadata": {
    "execution": {
     "iopub.execute_input": "2024-05-01T19:36:58.958910Z",
     "iopub.status.busy": "2024-05-01T19:36:58.958439Z",
     "iopub.status.idle": "2024-05-01T19:36:59.053553Z",
     "shell.execute_reply": "2024-05-01T19:36:59.051970Z"
    },
    "papermill": {
     "duration": 0.105622,
     "end_time": "2024-05-01T19:36:59.056307",
     "exception": false,
     "start_time": "2024-05-01T19:36:58.950685",
     "status": "completed"
    },
    "tags": []
   },
   "outputs": [
    {
     "data": {
      "text/plain": [
       "transaction_id      0\n",
       "transaction_date    0\n",
       "transaction_time    0\n",
       "transaction_qty     0\n",
       "store_id            0\n",
       "store_location      0\n",
       "product_id          0\n",
       "unit_price          0\n",
       "product_category    0\n",
       "product_type        0\n",
       "product_detail      0\n",
       "dtype: int64"
      ]
     },
     "execution_count": 4,
     "metadata": {},
     "output_type": "execute_result"
    }
   ],
   "source": [
    "df.isnull().sum()"
   ]
  },
  {
   "cell_type": "code",
   "execution_count": 5,
   "id": "dc4d38b1",
   "metadata": {
    "execution": {
     "iopub.execute_input": "2024-05-01T19:36:59.071594Z",
     "iopub.status.busy": "2024-05-01T19:36:59.071091Z",
     "iopub.status.idle": "2024-05-01T19:36:59.105553Z",
     "shell.execute_reply": "2024-05-01T19:36:59.104334Z"
    },
    "papermill": {
     "duration": 0.045285,
     "end_time": "2024-05-01T19:36:59.108160",
     "exception": false,
     "start_time": "2024-05-01T19:36:59.062875",
     "status": "completed"
    },
    "tags": []
   },
   "outputs": [
    {
     "data": {
      "text/plain": [
       "store_location\n",
       "Hell's Kitchen     50735\n",
       "Astoria            50599\n",
       "Lower Manhattan    47782\n",
       "Name: count, dtype: int64"
      ]
     },
     "execution_count": 5,
     "metadata": {},
     "output_type": "execute_result"
    }
   ],
   "source": [
    "df['store_location'].value_counts()"
   ]
  },
  {
   "cell_type": "code",
   "execution_count": 6,
   "id": "8be6edc5",
   "metadata": {
    "execution": {
     "iopub.execute_input": "2024-05-01T19:36:59.124029Z",
     "iopub.status.busy": "2024-05-01T19:36:59.123650Z",
     "iopub.status.idle": "2024-05-01T19:36:59.156086Z",
     "shell.execute_reply": "2024-05-01T19:36:59.155219Z"
    },
    "papermill": {
     "duration": 0.043387,
     "end_time": "2024-05-01T19:36:59.158213",
     "exception": false,
     "start_time": "2024-05-01T19:36:59.114826",
     "status": "completed"
    },
    "tags": []
   },
   "outputs": [
    {
     "data": {
      "text/plain": [
       "product_category\n",
       "Coffee                58416\n",
       "Tea                   45449\n",
       "Bakery                22796\n",
       "Drinking Chocolate    11468\n",
       "Flavours               6790\n",
       "Coffee beans           1753\n",
       "Loose Tea              1210\n",
       "Branded                 747\n",
       "Packaged Chocolate      487\n",
       "Name: count, dtype: int64"
      ]
     },
     "execution_count": 6,
     "metadata": {},
     "output_type": "execute_result"
    }
   ],
   "source": [
    "df['product_category'].value_counts()"
   ]
  },
  {
   "cell_type": "code",
   "execution_count": 7,
   "id": "7c3aeedc",
   "metadata": {
    "execution": {
     "iopub.execute_input": "2024-05-01T19:36:59.173417Z",
     "iopub.status.busy": "2024-05-01T19:36:59.172978Z",
     "iopub.status.idle": "2024-05-01T19:36:59.192403Z",
     "shell.execute_reply": "2024-05-01T19:36:59.191365Z"
    },
    "papermill": {
     "duration": 0.030309,
     "end_time": "2024-05-01T19:36:59.195207",
     "exception": false,
     "start_time": "2024-05-01T19:36:59.164898",
     "status": "completed"
    },
    "tags": []
   },
   "outputs": [],
   "source": [
    "df.drop(columns=['transaction_id'],inplace=True)"
   ]
  },
  {
   "cell_type": "code",
   "execution_count": 8,
   "id": "cf6ede1c",
   "metadata": {
    "execution": {
     "iopub.execute_input": "2024-05-01T19:36:59.210978Z",
     "iopub.status.busy": "2024-05-01T19:36:59.210553Z",
     "iopub.status.idle": "2024-05-01T19:36:59.231290Z",
     "shell.execute_reply": "2024-05-01T19:36:59.229971Z"
    },
    "papermill": {
     "duration": 0.031847,
     "end_time": "2024-05-01T19:36:59.234028",
     "exception": false,
     "start_time": "2024-05-01T19:36:59.202181",
     "status": "completed"
    },
    "tags": []
   },
   "outputs": [
    {
     "data": {
      "text/html": [
       "<div>\n",
       "<style scoped>\n",
       "    .dataframe tbody tr th:only-of-type {\n",
       "        vertical-align: middle;\n",
       "    }\n",
       "\n",
       "    .dataframe tbody tr th {\n",
       "        vertical-align: top;\n",
       "    }\n",
       "\n",
       "    .dataframe thead th {\n",
       "        text-align: right;\n",
       "    }\n",
       "</style>\n",
       "<table border=\"1\" class=\"dataframe\">\n",
       "  <thead>\n",
       "    <tr style=\"text-align: right;\">\n",
       "      <th></th>\n",
       "      <th>transaction_date</th>\n",
       "      <th>transaction_time</th>\n",
       "      <th>transaction_qty</th>\n",
       "      <th>store_id</th>\n",
       "      <th>store_location</th>\n",
       "      <th>product_id</th>\n",
       "      <th>unit_price</th>\n",
       "      <th>product_category</th>\n",
       "      <th>product_type</th>\n",
       "      <th>product_detail</th>\n",
       "      <th>total_cost</th>\n",
       "    </tr>\n",
       "  </thead>\n",
       "  <tbody>\n",
       "    <tr>\n",
       "      <th>0</th>\n",
       "      <td>2023-01-01</td>\n",
       "      <td>07:06:11</td>\n",
       "      <td>2</td>\n",
       "      <td>5</td>\n",
       "      <td>Lower Manhattan</td>\n",
       "      <td>32</td>\n",
       "      <td>3.0</td>\n",
       "      <td>Coffee</td>\n",
       "      <td>Gourmet brewed coffee</td>\n",
       "      <td>Ethiopia Rg</td>\n",
       "      <td>6.0</td>\n",
       "    </tr>\n",
       "    <tr>\n",
       "      <th>1</th>\n",
       "      <td>2023-01-01</td>\n",
       "      <td>07:08:56</td>\n",
       "      <td>2</td>\n",
       "      <td>5</td>\n",
       "      <td>Lower Manhattan</td>\n",
       "      <td>57</td>\n",
       "      <td>3.1</td>\n",
       "      <td>Tea</td>\n",
       "      <td>Brewed Chai tea</td>\n",
       "      <td>Spicy Eye Opener Chai Lg</td>\n",
       "      <td>6.2</td>\n",
       "    </tr>\n",
       "    <tr>\n",
       "      <th>2</th>\n",
       "      <td>2023-01-01</td>\n",
       "      <td>07:14:04</td>\n",
       "      <td>2</td>\n",
       "      <td>5</td>\n",
       "      <td>Lower Manhattan</td>\n",
       "      <td>59</td>\n",
       "      <td>4.5</td>\n",
       "      <td>Drinking Chocolate</td>\n",
       "      <td>Hot chocolate</td>\n",
       "      <td>Dark chocolate Lg</td>\n",
       "      <td>9.0</td>\n",
       "    </tr>\n",
       "  </tbody>\n",
       "</table>\n",
       "</div>"
      ],
      "text/plain": [
       "  transaction_date transaction_time  transaction_qty  store_id  \\\n",
       "0       2023-01-01         07:06:11                2         5   \n",
       "1       2023-01-01         07:08:56                2         5   \n",
       "2       2023-01-01         07:14:04                2         5   \n",
       "\n",
       "    store_location  product_id  unit_price    product_category  \\\n",
       "0  Lower Manhattan          32         3.0              Coffee   \n",
       "1  Lower Manhattan          57         3.1                 Tea   \n",
       "2  Lower Manhattan          59         4.5  Drinking Chocolate   \n",
       "\n",
       "            product_type            product_detail  total_cost  \n",
       "0  Gourmet brewed coffee               Ethiopia Rg         6.0  \n",
       "1        Brewed Chai tea  Spicy Eye Opener Chai Lg         6.2  \n",
       "2          Hot chocolate         Dark chocolate Lg         9.0  "
      ]
     },
     "execution_count": 8,
     "metadata": {},
     "output_type": "execute_result"
    }
   ],
   "source": [
    "df['total_cost'] = df['transaction_qty'] * df['unit_price']\n",
    "df.head(3)"
   ]
  },
  {
   "cell_type": "code",
   "execution_count": 9,
   "id": "a2c8c8b6",
   "metadata": {
    "execution": {
     "iopub.execute_input": "2024-05-01T19:36:59.250870Z",
     "iopub.status.busy": "2024-05-01T19:36:59.250439Z",
     "iopub.status.idle": "2024-05-01T19:36:59.259109Z",
     "shell.execute_reply": "2024-05-01T19:36:59.257787Z"
    },
    "papermill": {
     "duration": 0.019982,
     "end_time": "2024-05-01T19:36:59.261800",
     "exception": false,
     "start_time": "2024-05-01T19:36:59.241818",
     "status": "completed"
    },
    "tags": []
   },
   "outputs": [
    {
     "data": {
      "text/plain": [
       "149111   2023-06-30\n",
       "149112   2023-06-30\n",
       "149113   2023-06-30\n",
       "149114   2023-06-30\n",
       "149115   2023-06-30\n",
       "Name: transaction_date, dtype: datetime64[ns]"
      ]
     },
     "execution_count": 9,
     "metadata": {},
     "output_type": "execute_result"
    }
   ],
   "source": [
    "df['transaction_date'].tail()"
   ]
  },
  {
   "cell_type": "markdown",
   "id": "f1f013b1",
   "metadata": {
    "papermill": {
     "duration": 0.007144,
     "end_time": "2024-05-01T19:36:59.276339",
     "exception": false,
     "start_time": "2024-05-01T19:36:59.269195",
     "status": "completed"
    },
    "tags": []
   },
   "source": [
    "# Let's Create New DataFrame For Monthly Total Sales"
   ]
  },
  {
   "cell_type": "code",
   "execution_count": 10,
   "id": "f288d404",
   "metadata": {
    "execution": {
     "iopub.execute_input": "2024-05-01T19:36:59.292931Z",
     "iopub.status.busy": "2024-05-01T19:36:59.292486Z",
     "iopub.status.idle": "2024-05-01T19:36:59.366622Z",
     "shell.execute_reply": "2024-05-01T19:36:59.365382Z"
    },
    "papermill": {
     "duration": 0.085714,
     "end_time": "2024-05-01T19:36:59.369360",
     "exception": false,
     "start_time": "2024-05-01T19:36:59.283646",
     "status": "completed"
    },
    "tags": []
   },
   "outputs": [],
   "source": [
    "m1 = (df['transaction_date'] >= '2023-01-01') & (df['transaction_date'] <= '2023-01-31')\n",
    "m1_total = df[m1]\n",
    "a = sum(m1_total['total_cost'])\n",
    "\n",
    "m2 = (df['transaction_date'] >= '2023-02-01') & (df['transaction_date'] <= '2023-02-28')\n",
    "m2_total = df[m2]\n",
    "\n",
    "b = sum(m2_total['total_cost'])\n",
    "\n",
    "m3 = (df['transaction_date'] >= '2023-03-01') & (df['transaction_date'] <= '2023-03-31')\n",
    "m3_total = df[m3]\n",
    "\n",
    "c = sum(m3_total['total_cost'])\n",
    "\n",
    "m4 = (df['transaction_date'] >= '2023-04-01') & (df['transaction_date'] <= '2023-04-30')\n",
    "m4_total = df[m4]\n",
    "\n",
    "d = sum(m4_total['total_cost'])\n",
    "\n",
    "m5 = (df['transaction_date'] >= '2023-05-01') & (df['transaction_date'] <= '2023-05-31')\n",
    "m5_total = df[m5]\n",
    "\n",
    "e = sum(m5_total['total_cost'])\n",
    "\n",
    "m6 = (df['transaction_date'] >= '2023-06-01') & (df['transaction_date'] <= '2023-06-30')\n",
    "m6_total = df[m6]\n",
    "\n",
    "f = sum(m6_total['total_cost'])\n",
    "\n"
   ]
  },
  {
   "cell_type": "code",
   "execution_count": 11,
   "id": "09d2b6fe",
   "metadata": {
    "execution": {
     "iopub.execute_input": "2024-05-01T19:36:59.387073Z",
     "iopub.status.busy": "2024-05-01T19:36:59.386691Z",
     "iopub.status.idle": "2024-05-01T19:36:59.393772Z",
     "shell.execute_reply": "2024-05-01T19:36:59.392562Z"
    },
    "papermill": {
     "duration": 0.01958,
     "end_time": "2024-05-01T19:36:59.396365",
     "exception": false,
     "start_time": "2024-05-01T19:36:59.376785",
     "status": "completed"
    },
    "tags": []
   },
   "outputs": [],
   "source": [
    "monthly_total_sales = {\n",
    "    'Month': ['January',\n",
    "              'February',\n",
    "              'March',\n",
    "              'April',\n",
    "              'May',\n",
    "              'June'],\n",
    "    'Total Sales': [a, b, c, d, e, f]  \n",
    "}\n",
    "\n",
    "\n",
    "month_sales = pd.DataFrame(monthly_total_sales)"
   ]
  },
  {
   "cell_type": "code",
   "execution_count": 12,
   "id": "604f7cca",
   "metadata": {
    "execution": {
     "iopub.execute_input": "2024-05-01T19:36:59.412551Z",
     "iopub.status.busy": "2024-05-01T19:36:59.412139Z",
     "iopub.status.idle": "2024-05-01T19:36:59.424672Z",
     "shell.execute_reply": "2024-05-01T19:36:59.423511Z"
    },
    "papermill": {
     "duration": 0.023868,
     "end_time": "2024-05-01T19:36:59.427454",
     "exception": false,
     "start_time": "2024-05-01T19:36:59.403586",
     "status": "completed"
    },
    "tags": []
   },
   "outputs": [
    {
     "data": {
      "text/html": [
       "<div>\n",
       "<style scoped>\n",
       "    .dataframe tbody tr th:only-of-type {\n",
       "        vertical-align: middle;\n",
       "    }\n",
       "\n",
       "    .dataframe tbody tr th {\n",
       "        vertical-align: top;\n",
       "    }\n",
       "\n",
       "    .dataframe thead th {\n",
       "        text-align: right;\n",
       "    }\n",
       "</style>\n",
       "<table border=\"1\" class=\"dataframe\">\n",
       "  <thead>\n",
       "    <tr style=\"text-align: right;\">\n",
       "      <th></th>\n",
       "      <th>Month</th>\n",
       "      <th>Total Sales</th>\n",
       "    </tr>\n",
       "  </thead>\n",
       "  <tbody>\n",
       "    <tr>\n",
       "      <th>0</th>\n",
       "      <td>January</td>\n",
       "      <td>81677.74</td>\n",
       "    </tr>\n",
       "    <tr>\n",
       "      <th>1</th>\n",
       "      <td>February</td>\n",
       "      <td>76145.19</td>\n",
       "    </tr>\n",
       "    <tr>\n",
       "      <th>2</th>\n",
       "      <td>March</td>\n",
       "      <td>98834.68</td>\n",
       "    </tr>\n",
       "    <tr>\n",
       "      <th>3</th>\n",
       "      <td>April</td>\n",
       "      <td>118941.08</td>\n",
       "    </tr>\n",
       "    <tr>\n",
       "      <th>4</th>\n",
       "      <td>May</td>\n",
       "      <td>156727.76</td>\n",
       "    </tr>\n",
       "    <tr>\n",
       "      <th>5</th>\n",
       "      <td>June</td>\n",
       "      <td>166485.88</td>\n",
       "    </tr>\n",
       "  </tbody>\n",
       "</table>\n",
       "</div>"
      ],
      "text/plain": [
       "      Month  Total Sales\n",
       "0   January     81677.74\n",
       "1  February     76145.19\n",
       "2     March     98834.68\n",
       "3     April    118941.08\n",
       "4       May    156727.76\n",
       "5      June    166485.88"
      ]
     },
     "execution_count": 12,
     "metadata": {},
     "output_type": "execute_result"
    }
   ],
   "source": [
    "month_sales"
   ]
  },
  {
   "cell_type": "code",
   "execution_count": 13,
   "id": "cee8dde8",
   "metadata": {
    "execution": {
     "iopub.execute_input": "2024-05-01T19:36:59.445101Z",
     "iopub.status.busy": "2024-05-01T19:36:59.444712Z",
     "iopub.status.idle": "2024-05-01T19:37:00.083286Z",
     "shell.execute_reply": "2024-05-01T19:37:00.082060Z"
    },
    "papermill": {
     "duration": 0.650148,
     "end_time": "2024-05-01T19:37:00.085853",
     "exception": false,
     "start_time": "2024-05-01T19:36:59.435705",
     "status": "completed"
    },
    "tags": []
   },
   "outputs": [
    {
     "data": {
      "image/png": "[encoded data removed]",
      "text/plain": [
       "<Figure size 1000x500 with 1 Axes>"
      ]
     },
     "metadata": {},
     "output_type": "display_data"
    },
    {
     "data": {
      "image/png": "[encoded data removed]",
      "text/plain": [
       "<Figure size 1000x500 with 1 Axes>"
      ]
     },
     "metadata": {},
     "output_type": "display_data"
    }
   ],
   "source": [
    "import matplotlib.pyplot as plt\n",
    "\n",
    "\n",
    "\n",
    "plt.figure(figsize=(10, 5))\n",
    "plt.plot(month_sales['Month'], month_sales['Total Sales'], marker='o', color='b')\n",
    "plt.title('Monthly Sales')\n",
    "plt.xlabel('Months')\n",
    "plt.ylabel('Sales ($)')\n",
    "plt.grid(True)\n",
    "plt.show()\n",
    "\n",
    "\n",
    "plt.figure(figsize=(10, 5))\n",
    "plt.bar(month_sales['Month'], month_sales['Total Sales'], color='g')\n",
    "plt.title('Monthly Sales Amounts')\n",
    "plt.xlabel('Months')\n",
    "plt.ylabel('Sales Amount ($)')\n",
    "plt.grid(True)\n",
    "plt.show()\n",
    "\n",
    "\n",
    "\n",
    "\n"
   ]
  },
  {
   "cell_type": "code",
   "execution_count": null,
   "id": "a0539b75",
   "metadata": {
    "papermill": {
     "duration": 0.009222,
     "end_time": "2024-05-01T19:37:00.104034",
     "exception": false,
     "start_time": "2024-05-01T19:37:00.094812",
     "status": "completed"
    },
    "tags": []
   },
   "outputs": [],
   "source": []
  }
 ],
 "metadata": {
  "kaggle": {
   "accelerator": "none",
   "dataSources": [
    {
     "datasetId": 4919446,
     "sourceId": 8283057,
     "sourceType": "datasetVersion"
    }
   ],
   "dockerImageVersionId": 30698,
   "isGpuEnabled": false,
   "isInternetEnabled": true,
   "language": "python",
   "sourceType": "notebook"
  },
  "kernelspec": {
   "display_name": "Python 3",
   "language": "python",
   "name": "python3"
  },
  "language_info": {
   "codemirror_mode": {
    "name": "ipython",
    "version": 3
   },
   "file_extension": ".py",
   "mimetype": "text/x-python",
   "name": "python",
   "nbconvert_exporter": "python",
   "pygments_lexer": "ipython3",
   "version": "3.10.13"
  },
  "papermill": {
   "default_parameters": {},
   "duration": 47.110412,
   "end_time": "2024-05-01T19:37:00.735552",
   "environment_variables": {},
   "exception": null,
   "input_path": "__notebook__.ipynb",
   "output_path": "__notebook__.ipynb",
   "parameters": {},
   "start_time": "2024-05-01T19:36:13.625140",
   "version": "2.5.0"
  }
 },
 "nbformat": 4,
 "nbformat_minor": 5
}
