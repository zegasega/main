{
 "cells": [
  {
   "cell_type": "code",
   "execution_count": 1,
   "id": "fe40ab6e",
   "metadata": {
    "execution": {
     "iopub.execute_input": "2024-06-25T06:46:14.126879Z",
     "iopub.status.busy": "2024-06-25T06:46:14.126499Z",
     "iopub.status.idle": "2024-06-25T06:46:14.918505Z",
     "shell.execute_reply": "2024-06-25T06:46:14.917603Z"
    },
    "papermill": {
     "duration": 0.8019,
     "end_time": "2024-06-25T06:46:14.920932",
     "exception": false,
     "start_time": "2024-06-25T06:46:14.119032",
     "status": "completed"
    },
    "tags": []
   },
   "outputs": [],
   "source": [
    "import pandas as pd\n",
    "import string"
   ]
  },
  {
   "cell_type": "code",
   "execution_count": 2,
   "id": "f4e386df",
   "metadata": {
    "execution": {
     "iopub.execute_input": "2024-06-25T06:46:14.935415Z",
     "iopub.status.busy": "2024-06-25T06:46:14.934441Z",
     "iopub.status.idle": "2024-06-25T06:46:14.965122Z",
     "shell.execute_reply": "2024-06-25T06:46:14.964148Z"
    },
    "papermill": {
     "duration": 0.039487,
     "end_time": "2024-06-25T06:46:14.967163",
     "exception": false,
     "start_time": "2024-06-25T06:46:14.927676",
     "status": "completed"
    },
    "tags": []
   },
   "outputs": [
    {
     "data": {
      "text/html": [
       "<div>\n",
       "<style scoped>\n",
       "    .dataframe tbody tr th:only-of-type {\n",
       "        vertical-align: middle;\n",
       "    }\n",
       "\n",
       "    .dataframe tbody tr th {\n",
       "        vertical-align: top;\n",
       "    }\n",
       "\n",
       "    .dataframe thead th {\n",
       "        text-align: right;\n",
       "    }\n",
       "</style>\n",
       "<table border=\"1\" class=\"dataframe\">\n",
       "  <thead>\n",
       "    <tr style=\"text-align: right;\">\n",
       "      <th></th>\n",
       "      <th>email</th>\n",
       "      <th>label</th>\n",
       "    </tr>\n",
       "  </thead>\n",
       "  <tbody>\n",
       "    <tr>\n",
       "      <th>0</th>\n",
       "      <td>Upgrade to our premium plan for exclusive acce...</td>\n",
       "      <td>ham</td>\n",
       "    </tr>\n",
       "    <tr>\n",
       "      <th>1</th>\n",
       "      <td>Happy holidays from our team! Wishing you joy ...</td>\n",
       "      <td>ham</td>\n",
       "    </tr>\n",
       "    <tr>\n",
       "      <th>2</th>\n",
       "      <td>We're hiring! Check out our career opportuniti...</td>\n",
       "      <td>ham</td>\n",
       "    </tr>\n",
       "  </tbody>\n",
       "</table>\n",
       "</div>"
      ],
      "text/plain": [
       "                                               email label\n",
       "0  Upgrade to our premium plan for exclusive acce...   ham\n",
       "1  Happy holidays from our team! Wishing you joy ...   ham\n",
       "2  We're hiring! Check out our career opportuniti...   ham"
      ]
     },
     "execution_count": 2,
     "metadata": {},
     "output_type": "execute_result"
    }
   ],
   "source": [
    "df = pd.read_csv(\"/kaggle/input/email-classification-ham-spam/email_classification.csv\")\n",
    "df.head(3)"
   ]
  },
  {
   "cell_type": "markdown",
   "id": "64710c45",
   "metadata": {
    "papermill": {
     "duration": 0.005607,
     "end_time": "2024-06-25T06:46:14.978700",
     "exception": false,
     "start_time": "2024-06-25T06:46:14.973093",
     "status": "completed"
    },
    "tags": []
   },
   "source": [
    "# Let\"s see How many spam and ham email text we have"
   ]
  },
  {
   "cell_type": "code",
   "execution_count": 3,
   "id": "918559e4",
   "metadata": {
    "execution": {
     "iopub.execute_input": "2024-06-25T06:46:14.992113Z",
     "iopub.status.busy": "2024-06-25T06:46:14.991202Z",
     "iopub.status.idle": "2024-06-25T06:46:15.004955Z",
     "shell.execute_reply": "2024-06-25T06:46:15.003937Z"
    },
    "papermill": {
     "duration": 0.022744,
     "end_time": "2024-06-25T06:46:15.007078",
     "exception": false,
     "start_time": "2024-06-25T06:46:14.984334",
     "status": "completed"
    },
    "tags": []
   },
   "outputs": [
    {
     "data": {
      "text/plain": [
       "label\n",
       "ham     100\n",
       "spam     79\n",
       "Name: count, dtype: int64"
      ]
     },
     "execution_count": 3,
     "metadata": {},
     "output_type": "execute_result"
    }
   ],
   "source": [
    "df[\"label\"].value_counts()"
   ]
  },
  {
   "cell_type": "markdown",
   "id": "5c26b28c",
   "metadata": {
    "papermill": {
     "duration": 0.005697,
     "end_time": "2024-06-25T06:46:15.018747",
     "exception": false,
     "start_time": "2024-06-25T06:46:15.013050",
     "status": "completed"
    },
    "tags": []
   },
   "source": [
    "1-Removing punctuation and special characters.\n",
    "\n",
    "2-Converting all text to lowercase.\n",
    "\n",
    "3-Removing stopwords (common words like 'and', 'the', 'is' that do not carry much information for classification).\n",
    "\n",
    "4-Stemming or lemmatization (reducing words to their root form) to normalize the text.\n"
   ]
  },
  {
   "cell_type": "markdown",
   "id": "d8df1e10",
   "metadata": {
    "papermill": {
     "duration": 0.005545,
     "end_time": "2024-06-25T06:46:15.030098",
     "exception": false,
     "start_time": "2024-06-25T06:46:15.024553",
     "status": "completed"
    },
    "tags": []
   },
   "source": [
    "# Removing punctuation and special characters."
   ]
  },
  {
   "cell_type": "code",
   "execution_count": 4,
   "id": "1aa39324",
   "metadata": {
    "execution": {
     "iopub.execute_input": "2024-06-25T06:46:15.043867Z",
     "iopub.status.busy": "2024-06-25T06:46:15.042969Z",
     "iopub.status.idle": "2024-06-25T06:46:15.055165Z",
     "shell.execute_reply": "2024-06-25T06:46:15.053985Z"
    },
    "papermill": {
     "duration": 0.021311,
     "end_time": "2024-06-25T06:46:15.057229",
     "exception": false,
     "start_time": "2024-06-25T06:46:15.035918",
     "status": "completed"
    },
    "tags": []
   },
   "outputs": [
    {
     "data": {
      "text/plain": [
       "0      Upgrade to our premium plan for exclusive acce...\n",
       "1      Happy holidays from our team Wishing you joy a...\n",
       "2      Were hiring Check out our career opportunities...\n",
       "3      Your Amazon account has been locked Click here...\n",
       "4      Your opinion matters Take our survey and help ...\n",
       "                             ...                        \n",
       "174    Were pleased to inform you that your refund ha...\n",
       "175    Get rich quick Invest in our revolutionary new...\n",
       "176    Your free trial period is ending soon Upgrade ...\n",
       "177    Your order is on its way Track your shipment f...\n",
       "178    Limitedtime offer Get 50 off on all purchases ...\n",
       "Name: cleaned_email, Length: 179, dtype: object"
      ]
     },
     "execution_count": 4,
     "metadata": {},
     "output_type": "execute_result"
    }
   ],
   "source": [
    "def remove_punctuation(text):\n",
    "    punctuations = string.punctuation\n",
    "    no_punct = ''.join([char for char in text if char not in punctuations])\n",
    "    return no_punct\n",
    "\n",
    "df['cleaned_email'] = df['email'].apply(remove_punctuation)\n",
    "df['cleaned_email']"
   ]
  },
  {
   "cell_type": "markdown",
   "id": "d4bb5b73",
   "metadata": {
    "papermill": {
     "duration": 0.006006,
     "end_time": "2024-06-25T06:46:15.070909",
     "exception": false,
     "start_time": "2024-06-25T06:46:15.064903",
     "status": "completed"
    },
    "tags": []
   },
   "source": [
    "# 2-Converting all text to lowercase."
   ]
  },
  {
   "cell_type": "code",
   "execution_count": 5,
   "id": "99ba23c8",
   "metadata": {
    "execution": {
     "iopub.execute_input": "2024-06-25T06:46:15.084782Z",
     "iopub.status.busy": "2024-06-25T06:46:15.083878Z",
     "iopub.status.idle": "2024-06-25T06:46:15.093039Z",
     "shell.execute_reply": "2024-06-25T06:46:15.092067Z"
    },
    "papermill": {
     "duration": 0.018474,
     "end_time": "2024-06-25T06:46:15.095267",
     "exception": false,
     "start_time": "2024-06-25T06:46:15.076793",
     "status": "completed"
    },
    "tags": []
   },
   "outputs": [
    {
     "data": {
      "text/plain": [
       "0      upgrade to our premium plan for exclusive acce...\n",
       "1      happy holidays from our team wishing you joy a...\n",
       "2      were hiring check out our career opportunities...\n",
       "3      your amazon account has been locked click here...\n",
       "4      your opinion matters take our survey and help ...\n",
       "                             ...                        \n",
       "174    were pleased to inform you that your refund ha...\n",
       "175    get rich quick invest in our revolutionary new...\n",
       "176    your free trial period is ending soon upgrade ...\n",
       "177    your order is on its way track your shipment f...\n",
       "178    limitedtime offer get 50 off on all purchases ...\n",
       "Name: cleaned_email, Length: 179, dtype: object"
      ]
     },
     "execution_count": 5,
     "metadata": {},
     "output_type": "execute_result"
    }
   ],
   "source": [
    "def lower_case(text):\n",
    "    return text.lower()\n",
    "\n",
    "df['cleaned_email'] = df['cleaned_email'].apply(lower_case)\n",
    "df['cleaned_email']"
   ]
  },
  {
   "cell_type": "markdown",
   "id": "76c910ca",
   "metadata": {
    "papermill": {
     "duration": 0.005877,
     "end_time": "2024-06-25T06:46:15.107459",
     "exception": false,
     "start_time": "2024-06-25T06:46:15.101582",
     "status": "completed"
    },
    "tags": []
   },
   "source": [
    "# 3-Removing stopwords (common words like 'and', 'the', 'is' that do not carry much information for classification)."
   ]
  },
  {
   "cell_type": "code",
   "execution_count": 6,
   "id": "cd3f828e",
   "metadata": {
    "execution": {
     "iopub.execute_input": "2024-06-25T06:46:15.121735Z",
     "iopub.status.busy": "2024-06-25T06:46:15.120985Z",
     "iopub.status.idle": "2024-06-25T06:46:16.936703Z",
     "shell.execute_reply": "2024-06-25T06:46:16.935383Z"
    },
    "papermill": {
     "duration": 1.825125,
     "end_time": "2024-06-25T06:46:16.938771",
     "exception": false,
     "start_time": "2024-06-25T06:46:15.113646",
     "status": "completed"
    },
    "tags": []
   },
   "outputs": [
    {
     "name": "stdout",
     "output_type": "stream",
     "text": [
      "[nltk_data] Downloading package stopwords to /usr/share/nltk_data...\n",
      "[nltk_data]   Package stopwords is already up-to-date!\n"
     ]
    },
    {
     "data": {
      "text/plain": [
       "0      upgrade premium plan exclusive access premium ...\n",
       "1      happy holidays team wishing joy prosperity season\n",
       "2      hiring check career opportunities join dynamic...\n",
       "3      amazon account locked click verify account inf...\n",
       "4      opinion matters take survey help us enhance ex...\n",
       "                             ...                        \n",
       "174         pleased inform refund processed successfully\n",
       "175    get rich quick invest revolutionary new scheme...\n",
       "176    free trial period ending soon upgrade continue...\n",
       "177            order way track shipment realtime updates\n",
       "178    limitedtime offer get 50 purchases today dont ...\n",
       "Name: cleaned_email, Length: 179, dtype: object"
      ]
     },
     "execution_count": 6,
     "metadata": {},
     "output_type": "execute_result"
    }
   ],
   "source": [
    "from nltk.corpus import stopwords\n",
    "import nltk\n",
    "nltk.download('stopwords')\n",
    "\n",
    "def clean_stopwords(text):\n",
    "    stop_words = set(stopwords.words('english'))\n",
    "    words = text.split()  # Split text into words\n",
    "    cleaned_words = [word for word in words if word.lower() not in stop_words]\n",
    "    return ' '.join(cleaned_words)  # Join cleaned words back into a single string\n",
    "\n",
    "\n",
    "\n",
    "df['cleaned_email'] = df['cleaned_email'].apply(clean_stopwords)\n",
    "df['cleaned_email']"
   ]
  },
  {
   "cell_type": "code",
   "execution_count": 7,
   "id": "9a63b7f2",
   "metadata": {
    "execution": {
     "iopub.execute_input": "2024-06-25T06:46:16.952935Z",
     "iopub.status.busy": "2024-06-25T06:46:16.952566Z",
     "iopub.status.idle": "2024-06-25T06:46:16.959315Z",
     "shell.execute_reply": "2024-06-25T06:46:16.958256Z"
    },
    "papermill": {
     "duration": 0.016703,
     "end_time": "2024-06-25T06:46:16.961832",
     "exception": false,
     "start_time": "2024-06-25T06:46:16.945129",
     "status": "completed"
    },
    "tags": []
   },
   "outputs": [
    {
     "name": "stderr",
     "output_type": "stream",
     "text": [
      "/tmp/ipykernel_18/2273883485.py:1: FutureWarning: A value is trying to be set on a copy of a DataFrame or Series through chained assignment using an inplace method.\n",
      "The behavior will change in pandas 3.0. This inplace method will never work because the intermediate object on which we are setting values always behaves as a copy.\n",
      "\n",
      "For example, when doing 'df[col].method(value, inplace=True)', try using 'df.method({col: value}, inplace=True)' or df[col] = df[col].method(value) instead, to perform the operation inplace on the original object.\n",
      "\n",
      "\n",
      "  df[\"label\"].replace({\"ham\": 0, \"spam\": 1}, inplace=True)\n",
      "/tmp/ipykernel_18/2273883485.py:1: FutureWarning: Downcasting behavior in `replace` is deprecated and will be removed in a future version. To retain the old behavior, explicitly call `result.infer_objects(copy=False)`. To opt-in to the future behavior, set `pd.set_option('future.no_silent_downcasting', True)`\n",
      "  df[\"label\"].replace({\"ham\": 0, \"spam\": 1}, inplace=True)\n"
     ]
    }
   ],
   "source": [
    "df[\"label\"].replace({\"ham\": 0, \"spam\": 1}, inplace=True)"
   ]
  },
  {
   "cell_type": "code",
   "execution_count": 8,
   "id": "2929656c",
   "metadata": {
    "execution": {
     "iopub.execute_input": "2024-06-25T06:46:16.977074Z",
     "iopub.status.busy": "2024-06-25T06:46:16.976172Z",
     "iopub.status.idle": "2024-06-25T06:46:16.992081Z",
     "shell.execute_reply": "2024-06-25T06:46:16.991116Z"
    },
    "papermill": {
     "duration": 0.025769,
     "end_time": "2024-06-25T06:46:16.994106",
     "exception": false,
     "start_time": "2024-06-25T06:46:16.968337",
     "status": "completed"
    },
    "tags": []
   },
   "outputs": [
    {
     "data": {
      "text/html": [
       "<div>\n",
       "<style scoped>\n",
       "    .dataframe tbody tr th:only-of-type {\n",
       "        vertical-align: middle;\n",
       "    }\n",
       "\n",
       "    .dataframe tbody tr th {\n",
       "        vertical-align: top;\n",
       "    }\n",
       "\n",
       "    .dataframe thead th {\n",
       "        text-align: right;\n",
       "    }\n",
       "</style>\n",
       "<table border=\"1\" class=\"dataframe\">\n",
       "  <thead>\n",
       "    <tr style=\"text-align: right;\">\n",
       "      <th></th>\n",
       "      <th>email</th>\n",
       "      <th>label</th>\n",
       "      <th>cleaned_email</th>\n",
       "    </tr>\n",
       "  </thead>\n",
       "  <tbody>\n",
       "    <tr>\n",
       "      <th>0</th>\n",
       "      <td>Upgrade to our premium plan for exclusive acce...</td>\n",
       "      <td>0</td>\n",
       "      <td>upgrade premium plan exclusive access premium ...</td>\n",
       "    </tr>\n",
       "    <tr>\n",
       "      <th>1</th>\n",
       "      <td>Happy holidays from our team! Wishing you joy ...</td>\n",
       "      <td>0</td>\n",
       "      <td>happy holidays team wishing joy prosperity season</td>\n",
       "    </tr>\n",
       "    <tr>\n",
       "      <th>2</th>\n",
       "      <td>We're hiring! Check out our career opportuniti...</td>\n",
       "      <td>0</td>\n",
       "      <td>hiring check career opportunities join dynamic...</td>\n",
       "    </tr>\n",
       "    <tr>\n",
       "      <th>3</th>\n",
       "      <td>Your Amazon account has been locked. Click her...</td>\n",
       "      <td>1</td>\n",
       "      <td>amazon account locked click verify account inf...</td>\n",
       "    </tr>\n",
       "    <tr>\n",
       "      <th>4</th>\n",
       "      <td>Your opinion matters! Take our survey and help...</td>\n",
       "      <td>0</td>\n",
       "      <td>opinion matters take survey help us enhance ex...</td>\n",
       "    </tr>\n",
       "    <tr>\n",
       "      <th>...</th>\n",
       "      <td>...</td>\n",
       "      <td>...</td>\n",
       "      <td>...</td>\n",
       "    </tr>\n",
       "    <tr>\n",
       "      <th>174</th>\n",
       "      <td>We're pleased to inform you that your refund h...</td>\n",
       "      <td>0</td>\n",
       "      <td>pleased inform refund processed successfully</td>\n",
       "    </tr>\n",
       "    <tr>\n",
       "      <th>175</th>\n",
       "      <td>Get rich quick! Invest in our revolutionary ne...</td>\n",
       "      <td>1</td>\n",
       "      <td>get rich quick invest revolutionary new scheme...</td>\n",
       "    </tr>\n",
       "    <tr>\n",
       "      <th>176</th>\n",
       "      <td>Your free trial period is ending soon. Upgrade...</td>\n",
       "      <td>0</td>\n",
       "      <td>free trial period ending soon upgrade continue...</td>\n",
       "    </tr>\n",
       "    <tr>\n",
       "      <th>177</th>\n",
       "      <td>Your order is on its way! Track your shipment ...</td>\n",
       "      <td>0</td>\n",
       "      <td>order way track shipment realtime updates</td>\n",
       "    </tr>\n",
       "    <tr>\n",
       "      <th>178</th>\n",
       "      <td>Limited-time offer! Get 50% off on all purchas...</td>\n",
       "      <td>1</td>\n",
       "      <td>limitedtime offer get 50 purchases today dont ...</td>\n",
       "    </tr>\n",
       "  </tbody>\n",
       "</table>\n",
       "<p>179 rows × 3 columns</p>\n",
       "</div>"
      ],
      "text/plain": [
       "                                                 email  label  \\\n",
       "0    Upgrade to our premium plan for exclusive acce...      0   \n",
       "1    Happy holidays from our team! Wishing you joy ...      0   \n",
       "2    We're hiring! Check out our career opportuniti...      0   \n",
       "3    Your Amazon account has been locked. Click her...      1   \n",
       "4    Your opinion matters! Take our survey and help...      0   \n",
       "..                                                 ...    ...   \n",
       "174  We're pleased to inform you that your refund h...      0   \n",
       "175  Get rich quick! Invest in our revolutionary ne...      1   \n",
       "176  Your free trial period is ending soon. Upgrade...      0   \n",
       "177  Your order is on its way! Track your shipment ...      0   \n",
       "178  Limited-time offer! Get 50% off on all purchas...      1   \n",
       "\n",
       "                                         cleaned_email  \n",
       "0    upgrade premium plan exclusive access premium ...  \n",
       "1    happy holidays team wishing joy prosperity season  \n",
       "2    hiring check career opportunities join dynamic...  \n",
       "3    amazon account locked click verify account inf...  \n",
       "4    opinion matters take survey help us enhance ex...  \n",
       "..                                                 ...  \n",
       "174       pleased inform refund processed successfully  \n",
       "175  get rich quick invest revolutionary new scheme...  \n",
       "176  free trial period ending soon upgrade continue...  \n",
       "177          order way track shipment realtime updates  \n",
       "178  limitedtime offer get 50 purchases today dont ...  \n",
       "\n",
       "[179 rows x 3 columns]"
      ]
     },
     "execution_count": 8,
     "metadata": {},
     "output_type": "execute_result"
    }
   ],
   "source": [
    "df"
   ]
  },
  {
   "cell_type": "markdown",
   "id": "b1351f72",
   "metadata": {
    "papermill": {
     "duration": 0.006425,
     "end_time": "2024-06-25T06:46:17.007388",
     "exception": false,
     "start_time": "2024-06-25T06:46:17.000963",
     "status": "completed"
    },
    "tags": []
   },
   "source": [
    "# Creating Model"
   ]
  },
  {
   "cell_type": "code",
   "execution_count": 9,
   "id": "254b9517",
   "metadata": {
    "execution": {
     "iopub.execute_input": "2024-06-25T06:46:17.022759Z",
     "iopub.status.busy": "2024-06-25T06:46:17.022004Z",
     "iopub.status.idle": "2024-06-25T06:46:17.052105Z",
     "shell.execute_reply": "2024-06-25T06:46:17.050778Z"
    },
    "papermill": {
     "duration": 0.040261,
     "end_time": "2024-06-25T06:46:17.054348",
     "exception": false,
     "start_time": "2024-06-25T06:46:17.014087",
     "status": "completed"
    },
    "tags": []
   },
   "outputs": [
    {
     "name": "stdout",
     "output_type": "stream",
     "text": [
      "Test Accuracy: 1.0\n"
     ]
    }
   ],
   "source": [
    "from sklearn.naive_bayes import MultinomialNB\n",
    "from sklearn.model_selection import train_test_split\n",
    "from sklearn.feature_extraction.text import CountVectorizer\n",
    "vectorizer = CountVectorizer()\n",
    "\n",
    "X = vectorizer.fit_transform(df['cleaned_email'])  # 'cleaned_email' sütunundaki metinleri vektörlere dönüştürür\n",
    "y = df[\"label\"]\n",
    "\n",
    "X_train, X_test, y_train, y_test = train_test_split(X, y, test_size=0.2, random_state=42)\n",
    "\n",
    "clf = MultinomialNB()\n",
    "clf.fit(X_train, y_train)\n",
    "\n",
    "accuracy = clf.score(X_test, y_test)\n",
    "print(f\"Test Accuracy: {accuracy}\")\n"
   ]
  },
  {
   "cell_type": "code",
   "execution_count": 10,
   "id": "1e5e3d71",
   "metadata": {
    "execution": {
     "iopub.execute_input": "2024-06-25T06:46:17.069734Z",
     "iopub.status.busy": "2024-06-25T06:46:17.069077Z",
     "iopub.status.idle": "2024-06-25T06:46:17.075437Z",
     "shell.execute_reply": "2024-06-25T06:46:17.074472Z"
    },
    "papermill": {
     "duration": 0.016428,
     "end_time": "2024-06-25T06:46:17.077680",
     "exception": false,
     "start_time": "2024-06-25T06:46:17.061252",
     "status": "completed"
    },
    "tags": []
   },
   "outputs": [
    {
     "name": "stdout",
     "output_type": "stream",
     "text": [
      "Predicted class: [1]\n"
     ]
    }
   ],
   "source": [
    "new_text = \"You have been selected as the lucky winner of our exclusive cruise vacation package! This is a once-in-a-lifetime opportunity to enjoy a luxurious cruise to exotic destinations around the world.To claim your prize, simply click on the link below and provide your contact details. Don't miss out on this amazing offer!\"\n",
    "\n",
    "X_new = vectorizer.transform([new_text])\n",
    "predicted = clf.predict(X_new)\n",
    "print(f\"Predicted class: {predicted}\")\n"
   ]
  },
  {
   "attachments": {
    "05100f0c-084a-4193-9d8c-cdfa0ae69088.jpg": {
     "image/jpeg": "[encoded data removed]"
    },
    "849f96c2-c8db-48e9-9c07-283a638e9b78.jpg": {
     "image/jpeg": "[encoded data removed]"
    }
   },
   "cell_type": "markdown",
   "id": "fd909de4",
   "metadata": {
    "papermill": {
     "duration": 0.006568,
     "end_time": "2024-06-25T06:46:17.091044",
     "exception": false,
     "start_time": "2024-06-25T06:46:17.084476",
     "status": "completed"
    },
    "tags": []
   },
   "source": [
    "![photo.jpg](attachment:849f96c2-c8db-48e9-9c07-283a638e9b78.jpg)"
   ]
  }
 ],
 "metadata": {
  "kaggle": {
   "accelerator": "none",
   "dataSources": [
    {
     "datasetId": 4812840,
     "sourceId": 8140416,
     "sourceType": "datasetVersion"
    }
   ],
   "dockerImageVersionId": 30732,
   "isGpuEnabled": false,
   "isInternetEnabled": true,
   "language": "python",
   "sourceType": "notebook"
  },
  "kernelspec": {
   "display_name": "Python 3",
   "language": "python",
   "name": "python3"
  },
  "language_info": {
   "codemirror_mode": {
    "name": "ipython",
    "version": 3
   },
   "file_extension": ".py",
   "mimetype": "text/x-python",
   "name": "python",
   "nbconvert_exporter": "python",
   "pygments_lexer": "ipython3",
   "version": "3.10.13"
  },
  "papermill": {
   "default_parameters": {},
   "duration": 6.16898,
   "end_time": "2024-06-25T06:46:17.717819",
   "environment_variables": {},
   "exception": null,
   "input_path": "__notebook__.ipynb",
   "output_path": "__notebook__.ipynb",
   "parameters": {},
   "start_time": "2024-06-25T06:46:11.548839",
   "version": "2.5.0"
  }
 },
 "nbformat": 4,
 "nbformat_minor": 5
}
