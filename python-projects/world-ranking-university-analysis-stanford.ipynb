{
 "cells": [
  {
   "cell_type": "code",
   "execution_count": 1,
   "id": "1e49cc81",
   "metadata": {
    "_cell_guid": "b1076dfc-b9ad-4769-8c92-a6c4dae69d19",
    "_uuid": "8f2839f25d086af736a60e9eeb907d3b93b6e0e5",
    "execution": {
     "iopub.execute_input": "2024-01-24T14:56:47.048833Z",
     "iopub.status.busy": "2024-01-24T14:56:47.048488Z",
     "iopub.status.idle": "2024-01-24T14:56:48.933514Z",
     "shell.execute_reply": "2024-01-24T14:56:48.932075Z"
    },
    "papermill": {
     "duration": 1.893433,
     "end_time": "2024-01-24T14:56:48.935895",
     "exception": false,
     "start_time": "2024-01-24T14:56:47.042462",
     "status": "completed"
    },
    "tags": []
   },
   "outputs": [
    {
     "data": {
      "text/html": [
       "<div>\n",
       "<style scoped>\n",
       "    .dataframe tbody tr th:only-of-type {\n",
       "        vertical-align: middle;\n",
       "    }\n",
       "\n",
       "    .dataframe tbody tr th {\n",
       "        vertical-align: top;\n",
       "    }\n",
       "\n",
       "    .dataframe thead th {\n",
       "        text-align: right;\n",
       "    }\n",
       "</style>\n",
       "<table border=\"1\" class=\"dataframe\">\n",
       "  <thead>\n",
       "    <tr style=\"text-align: right;\">\n",
       "      <th></th>\n",
       "      <th>Rank</th>\n",
       "      <th>Name</th>\n",
       "      <th>Country</th>\n",
       "      <th>Student Population</th>\n",
       "      <th>Students to Staff Ratio</th>\n",
       "      <th>International Students</th>\n",
       "      <th>Female to Male Ratio</th>\n",
       "      <th>Overall Score</th>\n",
       "      <th>Teaching</th>\n",
       "      <th>Research Environment</th>\n",
       "      <th>Research Quality</th>\n",
       "      <th>Industry Impact</th>\n",
       "      <th>International Outlook</th>\n",
       "      <th>Year</th>\n",
       "    </tr>\n",
       "  </thead>\n",
       "  <tbody>\n",
       "    <tr>\n",
       "      <th>0</th>\n",
       "      <td>1.0</td>\n",
       "      <td>California Institute of Technology</td>\n",
       "      <td>United States</td>\n",
       "      <td>2243</td>\n",
       "      <td>6.9</td>\n",
       "      <td>26%</td>\n",
       "      <td>33 : 67</td>\n",
       "      <td>95.2</td>\n",
       "      <td>95.6</td>\n",
       "      <td>97.6</td>\n",
       "      <td>99.8</td>\n",
       "      <td>97.8</td>\n",
       "      <td>64.0</td>\n",
       "      <td>2016</td>\n",
       "    </tr>\n",
       "    <tr>\n",
       "      <th>1</th>\n",
       "      <td>2.0</td>\n",
       "      <td>University of Oxford</td>\n",
       "      <td>United Kingdom</td>\n",
       "      <td>19920</td>\n",
       "      <td>11.6</td>\n",
       "      <td>34%</td>\n",
       "      <td>46:54:00</td>\n",
       "      <td>94.2</td>\n",
       "      <td>86.5</td>\n",
       "      <td>98.9</td>\n",
       "      <td>98.8</td>\n",
       "      <td>73.1</td>\n",
       "      <td>94.4</td>\n",
       "      <td>2016</td>\n",
       "    </tr>\n",
       "    <tr>\n",
       "      <th>2</th>\n",
       "      <td>3.0</td>\n",
       "      <td>Stanford University</td>\n",
       "      <td>United States</td>\n",
       "      <td>15596</td>\n",
       "      <td>7.8</td>\n",
       "      <td>22%</td>\n",
       "      <td>42:58:00</td>\n",
       "      <td>93.9</td>\n",
       "      <td>92.5</td>\n",
       "      <td>96.2</td>\n",
       "      <td>99.9</td>\n",
       "      <td>63.3</td>\n",
       "      <td>76.3</td>\n",
       "      <td>2016</td>\n",
       "    </tr>\n",
       "    <tr>\n",
       "      <th>3</th>\n",
       "      <td>4.0</td>\n",
       "      <td>University of Cambridge</td>\n",
       "      <td>United Kingdom</td>\n",
       "      <td>18810</td>\n",
       "      <td>11.8</td>\n",
       "      <td>34%</td>\n",
       "      <td>46:54:00</td>\n",
       "      <td>92.8</td>\n",
       "      <td>88.2</td>\n",
       "      <td>96.7</td>\n",
       "      <td>97.0</td>\n",
       "      <td>55.0</td>\n",
       "      <td>91.5</td>\n",
       "      <td>2016</td>\n",
       "    </tr>\n",
       "    <tr>\n",
       "      <th>4</th>\n",
       "      <td>5.0</td>\n",
       "      <td>Massachusetts Institute of Technology</td>\n",
       "      <td>United States</td>\n",
       "      <td>11074</td>\n",
       "      <td>9.0</td>\n",
       "      <td>33%</td>\n",
       "      <td>37 : 63</td>\n",
       "      <td>92.0</td>\n",
       "      <td>89.4</td>\n",
       "      <td>88.6</td>\n",
       "      <td>99.7</td>\n",
       "      <td>95.4</td>\n",
       "      <td>84.0</td>\n",
       "      <td>2016</td>\n",
       "    </tr>\n",
       "  </tbody>\n",
       "</table>\n",
       "</div>"
      ],
      "text/plain": [
       "   Rank                                   Name         Country  \\\n",
       "0   1.0     California Institute of Technology   United States   \n",
       "1   2.0                   University of Oxford  United Kingdom   \n",
       "2   3.0                    Stanford University   United States   \n",
       "3   4.0                University of Cambridge  United Kingdom   \n",
       "4   5.0  Massachusetts Institute of Technology   United States   \n",
       "\n",
       "   Student Population  Students to Staff Ratio International Students  \\\n",
       "0                2243                      6.9                    26%   \n",
       "1               19920                     11.6                    34%   \n",
       "2               15596                      7.8                    22%   \n",
       "3               18810                     11.8                    34%   \n",
       "4               11074                      9.0                    33%   \n",
       "\n",
       "  Female to Male Ratio  Overall Score  Teaching  Research Environment  \\\n",
       "0              33 : 67           95.2      95.6                  97.6   \n",
       "1             46:54:00           94.2      86.5                  98.9   \n",
       "2             42:58:00           93.9      92.5                  96.2   \n",
       "3             46:54:00           92.8      88.2                  96.7   \n",
       "4              37 : 63           92.0      89.4                  88.6   \n",
       "\n",
       "   Research Quality  Industry Impact  International Outlook  Year  \n",
       "0              99.8             97.8                   64.0  2016  \n",
       "1              98.8             73.1                   94.4  2016  \n",
       "2              99.9             63.3                   76.3  2016  \n",
       "3              97.0             55.0                   91.5  2016  \n",
       "4              99.7             95.4                   84.0  2016  "
      ]
     },
     "execution_count": 1,
     "metadata": {},
     "output_type": "execute_result"
    }
   ],
   "source": [
    "# Importing necessary libraries\n",
    "import pandas as pd\n",
    "import matplotlib.pyplot as plt\n",
    "import seaborn as sns\n",
    "\n",
    "\n",
    "# Loading the dataset\n",
    "df = pd.read_csv(\"/kaggle/input/the-world-university-rankings-2016-2024/THE World University Rankings 2016-2024.csv\", encoding='latin-1')\n",
    "\n",
    "# Displaying the first 5 rows of the dataset\n",
    "df.head()"
   ]
  },
  {
   "cell_type": "code",
   "execution_count": 2,
   "id": "88b95d08",
   "metadata": {
    "execution": {
     "iopub.execute_input": "2024-01-24T14:56:48.946046Z",
     "iopub.status.busy": "2024-01-24T14:56:48.945695Z",
     "iopub.status.idle": "2024-01-24T14:56:48.952539Z",
     "shell.execute_reply": "2024-01-24T14:56:48.951150Z"
    },
    "papermill": {
     "duration": 0.014881,
     "end_time": "2024-01-24T14:56:48.954984",
     "exception": false,
     "start_time": "2024-01-24T14:56:48.940103",
     "status": "completed"
    },
    "tags": []
   },
   "outputs": [
    {
     "data": {
      "text/plain": [
       "(12430, 14)"
      ]
     },
     "execution_count": 2,
     "metadata": {},
     "output_type": "execute_result"
    }
   ],
   "source": [
    "# Shape of the Dataset\n",
    "\n",
    "df.shape"
   ]
  },
  {
   "cell_type": "code",
   "execution_count": 3,
   "id": "12448e1a",
   "metadata": {
    "execution": {
     "iopub.execute_input": "2024-01-24T14:56:48.964937Z",
     "iopub.status.busy": "2024-01-24T14:56:48.964569Z",
     "iopub.status.idle": "2024-01-24T14:56:48.972577Z",
     "shell.execute_reply": "2024-01-24T14:56:48.971226Z"
    },
    "papermill": {
     "duration": 0.015805,
     "end_time": "2024-01-24T14:56:48.975028",
     "exception": false,
     "start_time": "2024-01-24T14:56:48.959223",
     "status": "completed"
    },
    "tags": []
   },
   "outputs": [
    {
     "data": {
      "text/plain": [
       "Index(['Rank', 'Name', 'Country', 'Student Population',\n",
       "       'Students to Staff Ratio', 'International Students',\n",
       "       'Female to Male Ratio', 'Overall Score', 'Teaching',\n",
       "       'Research Environment', 'Research Quality', 'Industry Impact',\n",
       "       'International Outlook', 'Year'],\n",
       "      dtype='object')"
      ]
     },
     "execution_count": 3,
     "metadata": {},
     "output_type": "execute_result"
    }
   ],
   "source": [
    "#Dataset Columns\n",
    "df.columns"
   ]
  },
  {
   "cell_type": "code",
   "execution_count": 4,
   "id": "dfab14da",
   "metadata": {
    "execution": {
     "iopub.execute_input": "2024-01-24T14:56:48.985095Z",
     "iopub.status.busy": "2024-01-24T14:56:48.984696Z",
     "iopub.status.idle": "2024-01-24T14:56:49.098505Z",
     "shell.execute_reply": "2024-01-24T14:56:49.096946Z"
    },
    "papermill": {
     "duration": 0.122173,
     "end_time": "2024-01-24T14:56:49.101516",
     "exception": false,
     "start_time": "2024-01-24T14:56:48.979343",
     "status": "completed"
    },
    "tags": []
   },
   "outputs": [
    {
     "name": "stdout",
     "output_type": "stream",
     "text": [
      "<class 'pandas.core.frame.DataFrame'>\n",
      "RangeIndex: 12430 entries, 0 to 12429\n",
      "Data columns (total 14 columns):\n",
      " #   Column                   Non-Null Count  Dtype  \n",
      "---  ------                   --------------  -----  \n",
      " 0   Rank                     12430 non-null  float64\n",
      " 1   Name                     12430 non-null  object \n",
      " 2   Country                  12430 non-null  object \n",
      " 3   Student Population       12430 non-null  int64  \n",
      " 4   Students to Staff Ratio  12430 non-null  float64\n",
      " 5   International Students   12430 non-null  object \n",
      " 6   Female to Male Ratio     11839 non-null  object \n",
      " 7   Overall Score            12430 non-null  float64\n",
      " 8   Teaching                 12430 non-null  float64\n",
      " 9   Research Environment     12430 non-null  float64\n",
      " 10  Research Quality         12430 non-null  float64\n",
      " 11  Industry Impact          12430 non-null  float64\n",
      " 12  International Outlook    12430 non-null  float64\n",
      " 13  Year                     12430 non-null  int64  \n",
      "dtypes: float64(8), int64(2), object(4)\n",
      "memory usage: 1.3+ MB\n"
     ]
    }
   ],
   "source": [
    "df.info()"
   ]
  },
  {
   "cell_type": "code",
   "execution_count": 5,
   "id": "fac7f6da",
   "metadata": {
    "execution": {
     "iopub.execute_input": "2024-01-24T14:56:49.111847Z",
     "iopub.status.busy": "2024-01-24T14:56:49.111483Z",
     "iopub.status.idle": "2024-01-24T14:56:49.150315Z",
     "shell.execute_reply": "2024-01-24T14:56:49.149047Z"
    },
    "papermill": {
     "duration": 0.04697,
     "end_time": "2024-01-24T14:56:49.152971",
     "exception": false,
     "start_time": "2024-01-24T14:56:49.106001",
     "status": "completed"
    },
    "tags": []
   },
   "outputs": [
    {
     "data": {
      "text/html": [
       "<div>\n",
       "<style scoped>\n",
       "    .dataframe tbody tr th:only-of-type {\n",
       "        vertical-align: middle;\n",
       "    }\n",
       "\n",
       "    .dataframe tbody tr th {\n",
       "        vertical-align: top;\n",
       "    }\n",
       "\n",
       "    .dataframe thead th {\n",
       "        text-align: right;\n",
       "    }\n",
       "</style>\n",
       "<table border=\"1\" class=\"dataframe\">\n",
       "  <thead>\n",
       "    <tr style=\"text-align: right;\">\n",
       "      <th></th>\n",
       "      <th>Rank</th>\n",
       "      <th>Student Population</th>\n",
       "      <th>Students to Staff Ratio</th>\n",
       "      <th>Overall Score</th>\n",
       "      <th>Teaching</th>\n",
       "      <th>Research Environment</th>\n",
       "      <th>Research Quality</th>\n",
       "      <th>Industry Impact</th>\n",
       "      <th>International Outlook</th>\n",
       "      <th>Year</th>\n",
       "    </tr>\n",
       "  </thead>\n",
       "  <tbody>\n",
       "    <tr>\n",
       "      <th>count</th>\n",
       "      <td>12430.000000</td>\n",
       "      <td>1.243000e+04</td>\n",
       "      <td>12430.000000</td>\n",
       "      <td>12430.000000</td>\n",
       "      <td>12430.000000</td>\n",
       "      <td>12430.000000</td>\n",
       "      <td>12430.000000</td>\n",
       "      <td>12430.000000</td>\n",
       "      <td>12430.000000</td>\n",
       "      <td>12430.000000</td>\n",
       "    </tr>\n",
       "    <tr>\n",
       "      <th>mean</th>\n",
       "      <td>736.831054</td>\n",
       "      <td>2.336700e+04</td>\n",
       "      <td>18.897812</td>\n",
       "      <td>35.333011</td>\n",
       "      <td>28.536669</td>\n",
       "      <td>24.108640</td>\n",
       "      <td>49.188648</td>\n",
       "      <td>46.505502</td>\n",
       "      <td>47.604875</td>\n",
       "      <td>2020.664200</td>\n",
       "    </tr>\n",
       "    <tr>\n",
       "      <th>std</th>\n",
       "      <td>467.960733</td>\n",
       "      <td>3.498715e+04</td>\n",
       "      <td>17.057811</td>\n",
       "      <td>16.883561</td>\n",
       "      <td>14.061391</td>\n",
       "      <td>17.598593</td>\n",
       "      <td>27.534337</td>\n",
       "      <td>18.695916</td>\n",
       "      <td>23.002701</td>\n",
       "      <td>2.483259</td>\n",
       "    </tr>\n",
       "    <tr>\n",
       "      <th>min</th>\n",
       "      <td>1.000000</td>\n",
       "      <td>2.500000e+01</td>\n",
       "      <td>0.300000</td>\n",
       "      <td>8.222500</td>\n",
       "      <td>8.200000</td>\n",
       "      <td>0.800000</td>\n",
       "      <td>0.700000</td>\n",
       "      <td>0.000000</td>\n",
       "      <td>7.100000</td>\n",
       "      <td>2016.000000</td>\n",
       "    </tr>\n",
       "    <tr>\n",
       "      <th>25%</th>\n",
       "      <td>346.000000</td>\n",
       "      <td>1.014950e+04</td>\n",
       "      <td>12.300000</td>\n",
       "      <td>21.731875</td>\n",
       "      <td>18.800000</td>\n",
       "      <td>11.700000</td>\n",
       "      <td>24.500000</td>\n",
       "      <td>35.300000</td>\n",
       "      <td>28.225000</td>\n",
       "      <td>2019.000000</td>\n",
       "    </tr>\n",
       "    <tr>\n",
       "      <th>50%</th>\n",
       "      <td>691.000000</td>\n",
       "      <td>1.782400e+04</td>\n",
       "      <td>16.300000</td>\n",
       "      <td>32.402750</td>\n",
       "      <td>24.300000</td>\n",
       "      <td>18.100000</td>\n",
       "      <td>47.450000</td>\n",
       "      <td>39.500000</td>\n",
       "      <td>43.300000</td>\n",
       "      <td>2021.000000</td>\n",
       "    </tr>\n",
       "    <tr>\n",
       "      <th>75%</th>\n",
       "      <td>1078.000000</td>\n",
       "      <td>2.921850e+04</td>\n",
       "      <td>22.000000</td>\n",
       "      <td>45.189375</td>\n",
       "      <td>33.800000</td>\n",
       "      <td>30.500000</td>\n",
       "      <td>72.975000</td>\n",
       "      <td>52.200000</td>\n",
       "      <td>63.600000</td>\n",
       "      <td>2023.000000</td>\n",
       "    </tr>\n",
       "    <tr>\n",
       "      <th>max</th>\n",
       "      <td>1904.000000</td>\n",
       "      <td>1.824383e+06</td>\n",
       "      <td>865.800000</td>\n",
       "      <td>98.457500</td>\n",
       "      <td>99.000000</td>\n",
       "      <td>100.000000</td>\n",
       "      <td>100.000000</td>\n",
       "      <td>100.000000</td>\n",
       "      <td>100.000000</td>\n",
       "      <td>2024.000000</td>\n",
       "    </tr>\n",
       "  </tbody>\n",
       "</table>\n",
       "</div>"
      ],
      "text/plain": [
       "               Rank  Student Population  Students to Staff Ratio  \\\n",
       "count  12430.000000        1.243000e+04             12430.000000   \n",
       "mean     736.831054        2.336700e+04                18.897812   \n",
       "std      467.960733        3.498715e+04                17.057811   \n",
       "min        1.000000        2.500000e+01                 0.300000   \n",
       "25%      346.000000        1.014950e+04                12.300000   \n",
       "50%      691.000000        1.782400e+04                16.300000   \n",
       "75%     1078.000000        2.921850e+04                22.000000   \n",
       "max     1904.000000        1.824383e+06               865.800000   \n",
       "\n",
       "       Overall Score      Teaching  Research Environment  Research Quality  \\\n",
       "count   12430.000000  12430.000000          12430.000000      12430.000000   \n",
       "mean       35.333011     28.536669             24.108640         49.188648   \n",
       "std        16.883561     14.061391             17.598593         27.534337   \n",
       "min         8.222500      8.200000              0.800000          0.700000   \n",
       "25%        21.731875     18.800000             11.700000         24.500000   \n",
       "50%        32.402750     24.300000             18.100000         47.450000   \n",
       "75%        45.189375     33.800000             30.500000         72.975000   \n",
       "max        98.457500     99.000000            100.000000        100.000000   \n",
       "\n",
       "       Industry Impact  International Outlook          Year  \n",
       "count     12430.000000           12430.000000  12430.000000  \n",
       "mean         46.505502              47.604875   2020.664200  \n",
       "std          18.695916              23.002701      2.483259  \n",
       "min           0.000000               7.100000   2016.000000  \n",
       "25%          35.300000              28.225000   2019.000000  \n",
       "50%          39.500000              43.300000   2021.000000  \n",
       "75%          52.200000              63.600000   2023.000000  \n",
       "max         100.000000             100.000000   2024.000000  "
      ]
     },
     "execution_count": 5,
     "metadata": {},
     "output_type": "execute_result"
    }
   ],
   "source": [
    "df.describe()"
   ]
  },
  {
   "cell_type": "code",
   "execution_count": 6,
   "id": "c658f552",
   "metadata": {
    "execution": {
     "iopub.execute_input": "2024-01-24T14:56:49.163741Z",
     "iopub.status.busy": "2024-01-24T14:56:49.163436Z",
     "iopub.status.idle": "2024-01-24T14:56:49.182421Z",
     "shell.execute_reply": "2024-01-24T14:56:49.181305Z"
    },
    "papermill": {
     "duration": 0.027187,
     "end_time": "2024-01-24T14:56:49.184789",
     "exception": false,
     "start_time": "2024-01-24T14:56:49.157602",
     "status": "completed"
    },
    "tags": []
   },
   "outputs": [
    {
     "data": {
      "text/html": [
       "<div>\n",
       "<style scoped>\n",
       "    .dataframe tbody tr th:only-of-type {\n",
       "        vertical-align: middle;\n",
       "    }\n",
       "\n",
       "    .dataframe tbody tr th {\n",
       "        vertical-align: top;\n",
       "    }\n",
       "\n",
       "    .dataframe thead th {\n",
       "        text-align: right;\n",
       "    }\n",
       "</style>\n",
       "<table border=\"1\" class=\"dataframe\">\n",
       "  <thead>\n",
       "    <tr style=\"text-align: right;\">\n",
       "      <th></th>\n",
       "      <th>Rank</th>\n",
       "      <th>Name</th>\n",
       "      <th>Country</th>\n",
       "      <th>Student Population</th>\n",
       "      <th>Students to Staff Ratio</th>\n",
       "      <th>International Students</th>\n",
       "      <th>Female to Male Ratio</th>\n",
       "      <th>Overall Score</th>\n",
       "      <th>Teaching</th>\n",
       "      <th>Research Environment</th>\n",
       "      <th>Research Quality</th>\n",
       "      <th>Industry Impact</th>\n",
       "      <th>International Outlook</th>\n",
       "      <th>Year</th>\n",
       "    </tr>\n",
       "  </thead>\n",
       "  <tbody>\n",
       "    <tr>\n",
       "      <th>0</th>\n",
       "      <td>1.0</td>\n",
       "      <td>California Institute of Technology</td>\n",
       "      <td>United States</td>\n",
       "      <td>2243</td>\n",
       "      <td>6.9</td>\n",
       "      <td>26%</td>\n",
       "      <td>33 : 67</td>\n",
       "      <td>95.2</td>\n",
       "      <td>95.6</td>\n",
       "      <td>97.6</td>\n",
       "      <td>99.8</td>\n",
       "      <td>97.8</td>\n",
       "      <td>64.0</td>\n",
       "      <td>2016</td>\n",
       "    </tr>\n",
       "    <tr>\n",
       "      <th>1</th>\n",
       "      <td>2.0</td>\n",
       "      <td>University of Oxford</td>\n",
       "      <td>United Kingdom</td>\n",
       "      <td>19920</td>\n",
       "      <td>11.6</td>\n",
       "      <td>34%</td>\n",
       "      <td>46:54:00</td>\n",
       "      <td>94.2</td>\n",
       "      <td>86.5</td>\n",
       "      <td>98.9</td>\n",
       "      <td>98.8</td>\n",
       "      <td>73.1</td>\n",
       "      <td>94.4</td>\n",
       "      <td>2016</td>\n",
       "    </tr>\n",
       "    <tr>\n",
       "      <th>2</th>\n",
       "      <td>3.0</td>\n",
       "      <td>Stanford University</td>\n",
       "      <td>United States</td>\n",
       "      <td>15596</td>\n",
       "      <td>7.8</td>\n",
       "      <td>22%</td>\n",
       "      <td>42:58:00</td>\n",
       "      <td>93.9</td>\n",
       "      <td>92.5</td>\n",
       "      <td>96.2</td>\n",
       "      <td>99.9</td>\n",
       "      <td>63.3</td>\n",
       "      <td>76.3</td>\n",
       "      <td>2016</td>\n",
       "    </tr>\n",
       "  </tbody>\n",
       "</table>\n",
       "</div>"
      ],
      "text/plain": [
       "   Rank                                Name         Country  \\\n",
       "0   1.0  California Institute of Technology   United States   \n",
       "1   2.0                University of Oxford  United Kingdom   \n",
       "2   3.0                 Stanford University   United States   \n",
       "\n",
       "   Student Population  Students to Staff Ratio International Students  \\\n",
       "0                2243                      6.9                    26%   \n",
       "1               19920                     11.6                    34%   \n",
       "2               15596                      7.8                    22%   \n",
       "\n",
       "  Female to Male Ratio  Overall Score  Teaching  Research Environment  \\\n",
       "0              33 : 67           95.2      95.6                  97.6   \n",
       "1             46:54:00           94.2      86.5                  98.9   \n",
       "2             42:58:00           93.9      92.5                  96.2   \n",
       "\n",
       "   Research Quality  Industry Impact  International Outlook  Year  \n",
       "0              99.8             97.8                   64.0  2016  \n",
       "1              98.8             73.1                   94.4  2016  \n",
       "2              99.9             63.3                   76.3  2016  "
      ]
     },
     "execution_count": 6,
     "metadata": {},
     "output_type": "execute_result"
    }
   ],
   "source": [
    "df.head(3)"
   ]
  },
  {
   "cell_type": "code",
   "execution_count": 7,
   "id": "452c329a",
   "metadata": {
    "execution": {
     "iopub.execute_input": "2024-01-24T14:56:49.196165Z",
     "iopub.status.busy": "2024-01-24T14:56:49.195798Z",
     "iopub.status.idle": "2024-01-24T14:56:49.202250Z",
     "shell.execute_reply": "2024-01-24T14:56:49.200923Z"
    },
    "papermill": {
     "duration": 0.015051,
     "end_time": "2024-01-24T14:56:49.204593",
     "exception": false,
     "start_time": "2024-01-24T14:56:49.189542",
     "status": "completed"
    },
    "tags": []
   },
   "outputs": [
    {
     "name": "stdout",
     "output_type": "stream",
     "text": [
      "2105\n"
     ]
    }
   ],
   "source": [
    "# unique university names\n",
    "unique_univesity = df['Name'].unique()\n",
    "print(len(unique_univesity))"
   ]
  },
  {
   "cell_type": "markdown",
   "id": "5b94ed86",
   "metadata": {
    "papermill": {
     "duration": 0.004453,
     "end_time": "2024-01-24T14:56:49.213948",
     "exception": false,
     "start_time": "2024-01-24T14:56:49.209495",
     "status": "completed"
    },
    "tags": []
   },
   "source": [
    "# ***Stanford University***"
   ]
  },
  {
   "cell_type": "code",
   "execution_count": 8,
   "id": "bd8a1227",
   "metadata": {
    "execution": {
     "iopub.execute_input": "2024-01-24T14:56:49.225445Z",
     "iopub.status.busy": "2024-01-24T14:56:49.224496Z",
     "iopub.status.idle": "2024-01-24T14:56:49.251936Z",
     "shell.execute_reply": "2024-01-24T14:56:49.250837Z"
    },
    "papermill": {
     "duration": 0.036083,
     "end_time": "2024-01-24T14:56:49.254659",
     "exception": false,
     "start_time": "2024-01-24T14:56:49.218576",
     "status": "completed"
    },
    "tags": []
   },
   "outputs": [
    {
     "data": {
      "text/html": [
       "<div>\n",
       "<style scoped>\n",
       "    .dataframe tbody tr th:only-of-type {\n",
       "        vertical-align: middle;\n",
       "    }\n",
       "\n",
       "    .dataframe tbody tr th {\n",
       "        vertical-align: top;\n",
       "    }\n",
       "\n",
       "    .dataframe thead th {\n",
       "        text-align: right;\n",
       "    }\n",
       "</style>\n",
       "<table border=\"1\" class=\"dataframe\">\n",
       "  <thead>\n",
       "    <tr style=\"text-align: right;\">\n",
       "      <th></th>\n",
       "      <th>Rank</th>\n",
       "      <th>Name</th>\n",
       "      <th>Country</th>\n",
       "      <th>Student Population</th>\n",
       "      <th>Students to Staff Ratio</th>\n",
       "      <th>International Students</th>\n",
       "      <th>Female to Male Ratio</th>\n",
       "      <th>Overall Score</th>\n",
       "      <th>Teaching</th>\n",
       "      <th>Research Environment</th>\n",
       "      <th>Research Quality</th>\n",
       "      <th>Industry Impact</th>\n",
       "      <th>International Outlook</th>\n",
       "      <th>Year</th>\n",
       "    </tr>\n",
       "  </thead>\n",
       "  <tbody>\n",
       "    <tr>\n",
       "      <th>2</th>\n",
       "      <td>3.0</td>\n",
       "      <td>Stanford University</td>\n",
       "      <td>United States</td>\n",
       "      <td>15596</td>\n",
       "      <td>7.8</td>\n",
       "      <td>22%</td>\n",
       "      <td>42:58:00</td>\n",
       "      <td>93.9000</td>\n",
       "      <td>92.5</td>\n",
       "      <td>96.2</td>\n",
       "      <td>99.9</td>\n",
       "      <td>63.3</td>\n",
       "      <td>76.3</td>\n",
       "      <td>2016</td>\n",
       "    </tr>\n",
       "    <tr>\n",
       "      <th>802</th>\n",
       "      <td>3.0</td>\n",
       "      <td>Stanford University</td>\n",
       "      <td>United States</td>\n",
       "      <td>15658</td>\n",
       "      <td>7.7</td>\n",
       "      <td>22%</td>\n",
       "      <td>42:58:00</td>\n",
       "      <td>93.7800</td>\n",
       "      <td>92.6</td>\n",
       "      <td>95.9</td>\n",
       "      <td>99.9</td>\n",
       "      <td>60.9</td>\n",
       "      <td>76.5</td>\n",
       "      <td>2017</td>\n",
       "    </tr>\n",
       "    <tr>\n",
       "      <th>1783</th>\n",
       "      <td>3.0</td>\n",
       "      <td>Stanford University</td>\n",
       "      <td>United States</td>\n",
       "      <td>15845</td>\n",
       "      <td>7.5</td>\n",
       "      <td>22%</td>\n",
       "      <td>42:58:00</td>\n",
       "      <td>93.0425</td>\n",
       "      <td>89.1</td>\n",
       "      <td>96.7</td>\n",
       "      <td>99.9</td>\n",
       "      <td>60.5</td>\n",
       "      <td>77.6</td>\n",
       "      <td>2018</td>\n",
       "    </tr>\n",
       "    <tr>\n",
       "      <th>2886</th>\n",
       "      <td>3.0</td>\n",
       "      <td>Stanford University</td>\n",
       "      <td>United States</td>\n",
       "      <td>15878</td>\n",
       "      <td>7.4</td>\n",
       "      <td>23%</td>\n",
       "      <td>43:57:00</td>\n",
       "      <td>94.6525</td>\n",
       "      <td>93.6</td>\n",
       "      <td>96.8</td>\n",
       "      <td>99.9</td>\n",
       "      <td>64.6</td>\n",
       "      <td>79.3</td>\n",
       "      <td>2019</td>\n",
       "    </tr>\n",
       "    <tr>\n",
       "      <th>4145</th>\n",
       "      <td>4.0</td>\n",
       "      <td>Stanford University</td>\n",
       "      <td>United States</td>\n",
       "      <td>16135</td>\n",
       "      <td>7.3</td>\n",
       "      <td>23%</td>\n",
       "      <td>43:57:00</td>\n",
       "      <td>94.3475</td>\n",
       "      <td>92.8</td>\n",
       "      <td>96.4</td>\n",
       "      <td>99.9</td>\n",
       "      <td>66.2</td>\n",
       "      <td>79.5</td>\n",
       "      <td>2020</td>\n",
       "    </tr>\n",
       "    <tr>\n",
       "      <th>5540</th>\n",
       "      <td>2.0</td>\n",
       "      <td>Stanford University</td>\n",
       "      <td>United States</td>\n",
       "      <td>16223</td>\n",
       "      <td>7.4</td>\n",
       "      <td>23%</td>\n",
       "      <td>44:56:00</td>\n",
       "      <td>94.8550</td>\n",
       "      <td>92.2</td>\n",
       "      <td>96.7</td>\n",
       "      <td>99.9</td>\n",
       "      <td>90.1</td>\n",
       "      <td>79.5</td>\n",
       "      <td>2021</td>\n",
       "    </tr>\n",
       "    <tr>\n",
       "      <th>7068</th>\n",
       "      <td>4.0</td>\n",
       "      <td>Stanford University</td>\n",
       "      <td>United States</td>\n",
       "      <td>16319</td>\n",
       "      <td>7.3</td>\n",
       "      <td>23%</td>\n",
       "      <td>46:54:00</td>\n",
       "      <td>94.9525</td>\n",
       "      <td>92.3</td>\n",
       "      <td>96.8</td>\n",
       "      <td>99.9</td>\n",
       "      <td>91.0</td>\n",
       "      <td>79.7</td>\n",
       "      <td>2022</td>\n",
       "    </tr>\n",
       "    <tr>\n",
       "      <th>8729</th>\n",
       "      <td>3.0</td>\n",
       "      <td>Stanford University</td>\n",
       "      <td>United States</td>\n",
       "      <td>16164</td>\n",
       "      <td>7.1</td>\n",
       "      <td>24%</td>\n",
       "      <td>46:54:00</td>\n",
       "      <td>94.8200</td>\n",
       "      <td>94.2</td>\n",
       "      <td>96.7</td>\n",
       "      <td>99.8</td>\n",
       "      <td>65.0</td>\n",
       "      <td>79.8</td>\n",
       "      <td>2023</td>\n",
       "    </tr>\n",
       "    <tr>\n",
       "      <th>10527</th>\n",
       "      <td>2.0</td>\n",
       "      <td>Stanford University</td>\n",
       "      <td>United States</td>\n",
       "      <td>14517</td>\n",
       "      <td>6.4</td>\n",
       "      <td>23%</td>\n",
       "      <td>47:53:00</td>\n",
       "      <td>97.9720</td>\n",
       "      <td>99.0</td>\n",
       "      <td>97.8</td>\n",
       "      <td>99.6</td>\n",
       "      <td>100.0</td>\n",
       "      <td>87.0</td>\n",
       "      <td>2024</td>\n",
       "    </tr>\n",
       "  </tbody>\n",
       "</table>\n",
       "</div>"
      ],
      "text/plain": [
       "       Rank                 Name        Country  Student Population  \\\n",
       "2       3.0  Stanford University  United States               15596   \n",
       "802     3.0  Stanford University  United States               15658   \n",
       "1783    3.0  Stanford University  United States               15845   \n",
       "2886    3.0  Stanford University  United States               15878   \n",
       "4145    4.0  Stanford University  United States               16135   \n",
       "5540    2.0  Stanford University  United States               16223   \n",
       "7068    4.0  Stanford University  United States               16319   \n",
       "8729    3.0  Stanford University  United States               16164   \n",
       "10527   2.0  Stanford University  United States               14517   \n",
       "\n",
       "       Students to Staff Ratio International Students Female to Male Ratio  \\\n",
       "2                          7.8                    22%             42:58:00   \n",
       "802                        7.7                    22%             42:58:00   \n",
       "1783                       7.5                    22%             42:58:00   \n",
       "2886                       7.4                    23%             43:57:00   \n",
       "4145                       7.3                    23%             43:57:00   \n",
       "5540                       7.4                    23%             44:56:00   \n",
       "7068                       7.3                    23%             46:54:00   \n",
       "8729                       7.1                    24%             46:54:00   \n",
       "10527                      6.4                    23%             47:53:00   \n",
       "\n",
       "       Overall Score  Teaching  Research Environment  Research Quality  \\\n",
       "2            93.9000      92.5                  96.2              99.9   \n",
       "802          93.7800      92.6                  95.9              99.9   \n",
       "1783         93.0425      89.1                  96.7              99.9   \n",
       "2886         94.6525      93.6                  96.8              99.9   \n",
       "4145         94.3475      92.8                  96.4              99.9   \n",
       "5540         94.8550      92.2                  96.7              99.9   \n",
       "7068         94.9525      92.3                  96.8              99.9   \n",
       "8729         94.8200      94.2                  96.7              99.8   \n",
       "10527        97.9720      99.0                  97.8              99.6   \n",
       "\n",
       "       Industry Impact  International Outlook  Year  \n",
       "2                 63.3                   76.3  2016  \n",
       "802               60.9                   76.5  2017  \n",
       "1783              60.5                   77.6  2018  \n",
       "2886              64.6                   79.3  2019  \n",
       "4145              66.2                   79.5  2020  \n",
       "5540              90.1                   79.5  2021  \n",
       "7068              91.0                   79.7  2022  \n",
       "8729              65.0                   79.8  2023  \n",
       "10527            100.0                   87.0  2024  "
      ]
     },
     "execution_count": 8,
     "metadata": {},
     "output_type": "execute_result"
    }
   ],
   "source": [
    "Oxford = df[df['Name'] == 'University of Oxford']\n",
    "Stanford = df[df['Name'] == 'Stanford University']\n",
    "Stanford"
   ]
  },
  {
   "cell_type": "code",
   "execution_count": 9,
   "id": "d24b306a",
   "metadata": {
    "execution": {
     "iopub.execute_input": "2024-01-24T14:56:49.266722Z",
     "iopub.status.busy": "2024-01-24T14:56:49.266382Z",
     "iopub.status.idle": "2024-01-24T14:57:04.185096Z",
     "shell.execute_reply": "2024-01-24T14:57:04.183725Z"
    },
    "papermill": {
     "duration": 14.927722,
     "end_time": "2024-01-24T14:57:04.187712",
     "exception": false,
     "start_time": "2024-01-24T14:56:49.259990",
     "status": "completed"
    },
    "tags": []
   },
   "outputs": [
    {
     "data": {
      "image/png": "[encoded data removed]",
      "text/plain": [
       "<Figure size 1000x600 with 1 Axes>"
      ]
     },
     "metadata": {},
     "output_type": "display_data"
    }
   ],
   "source": [
    "plt.figure(figsize=(10, 6))\n",
    "plt.barh(df['Year'], df['Overall Score'], color='skyblue')\n",
    "\n",
    "\n",
    "plt.title('Year - Overall Score', fontsize=16)\n",
    "plt.xlabel('Overall Score', fontsize=14)\n",
    "plt.ylabel('Year', fontsize=14)\n",
    "plt.grid(axis='x')  \n",
    "plt.show()"
   ]
  },
  {
   "cell_type": "code",
   "execution_count": 10,
   "id": "5007f4ca",
   "metadata": {
    "execution": {
     "iopub.execute_input": "2024-01-24T14:57:04.201269Z",
     "iopub.status.busy": "2024-01-24T14:57:04.200714Z",
     "iopub.status.idle": "2024-01-24T14:57:04.809865Z",
     "shell.execute_reply": "2024-01-24T14:57:04.808614Z"
    },
    "papermill": {
     "duration": 0.618233,
     "end_time": "2024-01-24T14:57:04.811978",
     "exception": false,
     "start_time": "2024-01-24T14:57:04.193745",
     "status": "completed"
    },
    "tags": []
   },
   "outputs": [
    {
     "data": {
      "image/png": "[encoded data removed]",
      "text/plain": [
       "<Figure size 1000x600 with 1 Axes>"
      ]
     },
     "metadata": {},
     "output_type": "display_data"
    }
   ],
   "source": [
    "sns.set(style=\"whitegrid\")\n",
    "\n",
    "plt.figure(figsize=(10, 6))\n",
    "sns.barplot(x='Year', y='Student Population', data=df, color='skyblue')\n",
    "\n",
    "# Grafik üzerindeki detayları ekleyelim\n",
    "plt.title('Year - Student Population', fontsize=16)\n",
    "plt.xlabel('Year', fontsize=14)\n",
    "plt.ylabel('Student Population', fontsize=14)\n",
    "plt.show()"
   ]
  },
  {
   "cell_type": "code",
   "execution_count": 11,
   "id": "20a3f4c0",
   "metadata": {
    "execution": {
     "iopub.execute_input": "2024-01-24T14:57:04.825425Z",
     "iopub.status.busy": "2024-01-24T14:57:04.825070Z",
     "iopub.status.idle": "2024-01-24T14:57:21.329950Z",
     "shell.execute_reply": "2024-01-24T14:57:21.328668Z"
    },
    "papermill": {
     "duration": 16.515103,
     "end_time": "2024-01-24T14:57:21.332965",
     "exception": false,
     "start_time": "2024-01-24T14:57:04.817862",
     "status": "completed"
    },
    "tags": []
   },
   "outputs": [
    {
     "data": {
      "image/png": "[encoded data removed]",
      "text/plain": [
       "<Figure size 1000x600 with 1 Axes>"
      ]
     },
     "metadata": {},
     "output_type": "display_data"
    }
   ],
   "source": [
    "plt.style.use('dark_background')\n",
    "\n",
    "plt.figure(figsize=(10, 6))\n",
    "plt.bar(df['Year'], df['Industry Impact'], color='skyblue')\n",
    "plt.title('Industry Impact Over Years', fontsize=16)\n",
    "plt.xlabel('Year', fontsize=14)\n",
    "plt.ylabel('Industry Impact', fontsize=14)\n",
    "plt.show()"
   ]
  },
  {
   "cell_type": "code",
   "execution_count": 12,
   "id": "1e86fade",
   "metadata": {
    "execution": {
     "iopub.execute_input": "2024-01-24T14:57:21.347741Z",
     "iopub.status.busy": "2024-01-24T14:57:21.346792Z",
     "iopub.status.idle": "2024-01-24T14:57:36.870986Z",
     "shell.execute_reply": "2024-01-24T14:57:36.869841Z"
    },
    "papermill": {
     "duration": 15.534063,
     "end_time": "2024-01-24T14:57:36.873573",
     "exception": false,
     "start_time": "2024-01-24T14:57:21.339510",
     "status": "completed"
    },
    "tags": []
   },
   "outputs": [
    {
     "data": {
      "image/png": "[encoded data removed]",
      "text/plain": [
       "<Figure size 1000x600 with 1 Axes>"
      ]
     },
     "metadata": {},
     "output_type": "display_data"
    }
   ],
   "source": [
    "plt.style.use('ggplot')\n",
    "plt.figure(figsize=(10, 6))\n",
    "plt.bar(df['Year'], df['Teaching'], color='skyblue')\n",
    "plt.title('Year - Teaching', fontsize=16)\n",
    "plt.xlabel('Year', fontsize=14)\n",
    "plt.ylabel('Teaching', fontsize=14)\n",
    "plt.show()"
   ]
  },
  {
   "cell_type": "code",
   "execution_count": 13,
   "id": "b5ae0929",
   "metadata": {
    "execution": {
     "iopub.execute_input": "2024-01-24T14:57:36.889528Z",
     "iopub.status.busy": "2024-01-24T14:57:36.889105Z",
     "iopub.status.idle": "2024-01-24T14:57:40.334276Z",
     "shell.execute_reply": "2024-01-24T14:57:40.333116Z"
    },
    "papermill": {
     "duration": 3.455152,
     "end_time": "2024-01-24T14:57:40.336171",
     "exception": false,
     "start_time": "2024-01-24T14:57:36.881019",
     "status": "completed"
    },
    "tags": []
   },
   "outputs": [
    {
     "data": {
      "image/png": "[encoded data removed]",
      "text/plain": [
       "<Figure size 750x750 with 12 Axes>"
      ]
     },
     "metadata": {},
     "output_type": "display_data"
    }
   ],
   "source": [
    "\n",
    "pairplot_data = Stanford[['Teaching', 'Research Environment', 'Overall Score']].astype(float)\n",
    "\n",
    "sns.pairplot(pairplot_data)\n",
    "plt.suptitle('Pair Plot of Teaching, Research Environment, and Overall Score - Stanford', y=1.02)\n",
    "plt.show()"
   ]
  },
  {
   "cell_type": "code",
   "execution_count": null,
   "id": "89fab919",
   "metadata": {
    "papermill": {
     "duration": 0.006825,
     "end_time": "2024-01-24T14:57:40.350088",
     "exception": false,
     "start_time": "2024-01-24T14:57:40.343263",
     "status": "completed"
    },
    "tags": []
   },
   "outputs": [],
   "source": []
  }
 ],
 "metadata": {
  "kaggle": {
   "accelerator": "none",
   "dataSources": [
    {
     "datasetId": 4295157,
     "sourceId": 7389036,
     "sourceType": "datasetVersion"
    }
   ],
   "dockerImageVersionId": 30635,
   "isGpuEnabled": false,
   "isInternetEnabled": true,
   "language": "python",
   "sourceType": "notebook"
  },
  "kernelspec": {
   "display_name": "Python 3",
   "language": "python",
   "name": "python3"
  },
  "language_info": {
   "codemirror_mode": {
    "name": "ipython",
    "version": 3
   },
   "file_extension": ".py",
   "mimetype": "text/x-python",
   "name": "python",
   "nbconvert_exporter": "python",
   "pygments_lexer": "ipython3",
   "version": "3.10.12"
  },
  "papermill": {
   "default_parameters": {},
   "duration": 56.685044,
   "end_time": "2024-01-24T14:57:40.977472",
   "environment_variables": {},
   "exception": null,
   "input_path": "__notebook__.ipynb",
   "output_path": "__notebook__.ipynb",
   "parameters": {},
   "start_time": "2024-01-24T14:56:44.292428",
   "version": "2.4.0"
  }
 },
 "nbformat": 4,
 "nbformat_minor": 5
}
